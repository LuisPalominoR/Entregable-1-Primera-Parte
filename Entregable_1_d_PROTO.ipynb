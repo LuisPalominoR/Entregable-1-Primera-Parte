{
  "nbformat": 4,
  "nbformat_minor": 0,
  "metadata": {
    "colab": {
      "provenance": [],
      "authorship_tag": "ABX9TyON/+TgUj/J7AIVcKNuAAXN",
      "include_colab_link": true
    },
    "kernelspec": {
      "name": "python3",
      "display_name": "Python 3"
    },
    "language_info": {
      "name": "python"
    }
  },
  "cells": [
    {
      "cell_type": "markdown",
      "metadata": {
        "id": "view-in-github",
        "colab_type": "text"
      },
      "source": [
        "<a href=\"https://colab.research.google.com/github/LuisPalominoR/Entregable-1-Primera-Parte/blob/main/Entregable_1_d_PROTO.ipynb\" target=\"_parent\"><img src=\"https://colab.research.google.com/assets/colab-badge.svg\" alt=\"Open In Colab\"/></a>"
      ]
    },
    {
      "cell_type": "markdown",
      "source": [
        "**Tuplas**"
      ],
      "metadata": {
        "id": "yZlehdkoaDYL"
      }
    },
    {
      "cell_type": "code",
      "execution_count": 31,
      "metadata": {
        "colab": {
          "base_uri": "https://localhost:8080/"
        },
        "id": "JE3tA2HMYt5I",
        "outputId": "817e333a-707e-4da1-e11d-bdcb0be74601"
      },
      "outputs": [
        {
          "output_type": "execute_result",
          "data": {
            "text/plain": [
              "('Milei',\n",
              " 'Arce',\n",
              " 'da Silva',\n",
              " 'Boric',\n",
              " 'Petro',\n",
              " 'Noboa',\n",
              " 'Peña',\n",
              " 'Boluarte',\n",
              " 'Lacalle Pou',\n",
              " 'Maduro')"
            ]
          },
          "metadata": {},
          "execution_count": 31
        }
      ],
      "source": [
        "Surname_Sudamérica=\"Milei\", \"Arce\", \"da Silva\", \"Boric\", \"Petro\",\"Noboa\", \"Peña\", \"Boluarte\",\"Lacalle Pou\", \"Maduro\"\n",
        "Surname_Sudamérica"
      ]
    },
    {
      "cell_type": "code",
      "source": [
        "type(Surname_Sudamérica)"
      ],
      "metadata": {
        "colab": {
          "base_uri": "https://localhost:8080/"
        },
        "id": "aPgnM33waBXA",
        "outputId": "1b68519b-9fd2-4212-8675-100fe62fddd5"
      },
      "execution_count": 32,
      "outputs": [
        {
          "output_type": "execute_result",
          "data": {
            "text/plain": [
              "tuple"
            ]
          },
          "metadata": {},
          "execution_count": 32
        }
      ]
    },
    {
      "cell_type": "code",
      "source": [
        "#Acceso\n",
        "Surname_Sudamérica[3]"
      ],
      "metadata": {
        "colab": {
          "base_uri": "https://localhost:8080/",
          "height": 36
        },
        "id": "IC5PvugtaXPA",
        "outputId": "62a12a60-ec81-46d7-86da-f7cdc5d044f4"
      },
      "execution_count": 33,
      "outputs": [
        {
          "output_type": "execute_result",
          "data": {
            "text/plain": [
              "'Boric'"
            ],
            "application/vnd.google.colaboratory.intrinsic+json": {
              "type": "string"
            }
          },
          "metadata": {},
          "execution_count": 33
        }
      ]
    },
    {
      "cell_type": "markdown",
      "source": [
        "El cuarto miembro de la tupla es Boric."
      ],
      "metadata": {
        "id": "hHmFYvybaaoW"
      }
    },
    {
      "cell_type": "code",
      "source": [
        "Surname_no_Sudamérica=\"Chaves\", \"Díaz-Canel\", \"Bukele\", \"Arévalo\", \"Castro\", \"López Obrador\",\"Ortega\", \"Cortizo\", \"Abinader\"\n",
        "Surname_no_Sudamérica"
      ],
      "metadata": {
        "colab": {
          "base_uri": "https://localhost:8080/"
        },
        "id": "LJ9DNuRZafj4",
        "outputId": "f4318c63-1155-48a4-8138-5aa6747a30af"
      },
      "execution_count": 34,
      "outputs": [
        {
          "output_type": "execute_result",
          "data": {
            "text/plain": [
              "('Chaves',\n",
              " 'Díaz-Canel',\n",
              " 'Bukele',\n",
              " 'Arévalo',\n",
              " 'Castro',\n",
              " 'López Obrador',\n",
              " 'Ortega',\n",
              " 'Cortizo',\n",
              " 'Abinader')"
            ]
          },
          "metadata": {},
          "execution_count": 34
        }
      ]
    },
    {
      "cell_type": "code",
      "source": [
        "type(Surname_no_Sudamérica)"
      ],
      "metadata": {
        "colab": {
          "base_uri": "https://localhost:8080/"
        },
        "id": "TYJVXJy5a8EQ",
        "outputId": "9178aa46-7d20-4a0d-8a6f-7be9ce0ca53b"
      },
      "execution_count": 35,
      "outputs": [
        {
          "output_type": "execute_result",
          "data": {
            "text/plain": [
              "tuple"
            ]
          },
          "metadata": {},
          "execution_count": 35
        }
      ]
    },
    {
      "cell_type": "code",
      "source": [
        "#Acceso\n",
        "Surname_no_Sudamérica[6]"
      ],
      "metadata": {
        "colab": {
          "base_uri": "https://localhost:8080/",
          "height": 36
        },
        "id": "AaqpSzYDbRnH",
        "outputId": "132b9f95-3949-4e9f-c92f-eff99e17c801"
      },
      "execution_count": 36,
      "outputs": [
        {
          "output_type": "execute_result",
          "data": {
            "text/plain": [
              "'Ortega'"
            ],
            "application/vnd.google.colaboratory.intrinsic+json": {
              "type": "string"
            }
          },
          "metadata": {},
          "execution_count": 36
        }
      ]
    },
    {
      "cell_type": "markdown",
      "source": [
        "El séptimo miembro de la tupla es Ortega."
      ],
      "metadata": {
        "id": "mZ3sjFpMbVIg"
      }
    },
    {
      "cell_type": "code",
      "source": [
        "#Se unen ambas tuplas\n",
        "All_Surnames=Surname_Sudamérica + Surname_no_Sudamérica\n",
        "All_Surnames"
      ],
      "metadata": {
        "colab": {
          "base_uri": "https://localhost:8080/"
        },
        "id": "gUMDej8fa_vv",
        "outputId": "05877db3-8f68-4c39-e4c6-a38b21707d39"
      },
      "execution_count": 37,
      "outputs": [
        {
          "output_type": "execute_result",
          "data": {
            "text/plain": [
              "('Milei',\n",
              " 'Arce',\n",
              " 'da Silva',\n",
              " 'Boric',\n",
              " 'Petro',\n",
              " 'Noboa',\n",
              " 'Peña',\n",
              " 'Boluarte',\n",
              " 'Lacalle Pou',\n",
              " 'Maduro',\n",
              " 'Chaves',\n",
              " 'Díaz-Canel',\n",
              " 'Bukele',\n",
              " 'Arévalo',\n",
              " 'Castro',\n",
              " 'López Obrador',\n",
              " 'Ortega',\n",
              " 'Cortizo',\n",
              " 'Abinader')"
            ]
          },
          "metadata": {},
          "execution_count": 37
        }
      ]
    }
  ]
}