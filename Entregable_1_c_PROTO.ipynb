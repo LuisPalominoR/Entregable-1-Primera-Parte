{
  "nbformat": 4,
  "nbformat_minor": 0,
  "metadata": {
    "colab": {
      "provenance": [],
      "authorship_tag": "ABX9TyPpu6r6CcVqU9QcI7OJMPyA",
      "include_colab_link": true
    },
    "kernelspec": {
      "name": "python3",
      "display_name": "Python 3"
    },
    "language_info": {
      "name": "python"
    }
  },
  "cells": [
    {
      "cell_type": "markdown",
      "metadata": {
        "id": "view-in-github",
        "colab_type": "text"
      },
      "source": [
        "<a href=\"https://colab.research.google.com/github/LuisPalominoR/Entregable-1-Primera-Parte/blob/main/Entregable_1_c_PROTO.ipynb\" target=\"_parent\"><img src=\"https://colab.research.google.com/assets/colab-badge.svg\" alt=\"Open In Colab\"/></a>"
      ]
    },
    {
      "cell_type": "code",
      "source": [
        "%load_ext rpy2.ipython"
      ],
      "metadata": {
        "colab": {
          "base_uri": "https://localhost:8080/"
        },
        "id": "OtkTMk3WkofD",
        "outputId": "4a337b5a-e6ad-4071-9194-13832be13715"
      },
      "execution_count": 59,
      "outputs": [
        {
          "output_type": "stream",
          "name": "stdout",
          "text": [
            "The rpy2.ipython extension is already loaded. To reload it, use:\n",
            "  %reload_ext rpy2.ipython\n"
          ]
        }
      ]
    },
    {
      "cell_type": "markdown",
      "source": [
        "**Conjuntos**"
      ],
      "metadata": {
        "id": "hudUV_NRcm1R"
      }
    },
    {
      "cell_type": "markdown",
      "source": [
        "Creación de data"
      ],
      "metadata": {
        "id": "K6hEmoCBdMCW"
      }
    },
    {
      "cell_type": "code",
      "execution_count": 60,
      "metadata": {
        "colab": {
          "base_uri": "https://localhost:8080/"
        },
        "id": "XqIY_RbOcJWA",
        "outputId": "f7ef8ecb-332f-4d88-d373-8f37c1dfc277"
      },
      "outputs": [
        {
          "output_type": "execute_result",
          "data": {
            "text/plain": [
              "{'Centro', 'Centroderecha', 'Centroizquierda', 'Derecha', 'Izquierda'}"
            ]
          },
          "metadata": {},
          "execution_count": 60
        }
      ],
      "source": [
        "pol_orientation_set={\"Derecha\", \"Izquierda\", \"Izquierda\", \"Centroizquierda\", \"Izquierda\", \"Centroderecha\",\n",
        "                  \"Izquierda\", \"Centroderecha\", \"Centro\", \"Izquierda\", \"Centroizquierda\", \"Izquierda\",\n",
        "                  \"Izquierda\", \"Centro\", \"Centroderecha\", \"Centro\", \"Centroizquierda\", \"Centroderecha\",\n",
        "                  \"Izquierda\"}\n",
        "pol_orientation_set"
      ]
    },
    {
      "cell_type": "markdown",
      "source": [
        "Acceso a la data"
      ],
      "metadata": {
        "id": "RDb07IAydPVG"
      }
    },
    {
      "cell_type": "code",
      "source": [
        "list(pol_orientation_set)[1]"
      ],
      "metadata": {
        "colab": {
          "base_uri": "https://localhost:8080/",
          "height": 36
        },
        "id": "bWI-CYUCdXFV",
        "outputId": "466fc4ef-ea36-490a-d5bd-2b2ef7c5a710"
      },
      "execution_count": 61,
      "outputs": [
        {
          "output_type": "execute_result",
          "data": {
            "text/plain": [
              "'Centroderecha'"
            ],
            "application/vnd.google.colaboratory.intrinsic+json": {
              "type": "string"
            }
          },
          "metadata": {},
          "execution_count": 61
        }
      ]
    },
    {
      "cell_type": "markdown",
      "source": [
        "El segundo valor del conjunto es Centroderecha."
      ],
      "metadata": {
        "id": "OQRPocXKddhD"
      }
    },
    {
      "cell_type": "markdown",
      "source": [
        "Reemplazo"
      ],
      "metadata": {
        "id": "7-dNba3qdhtG"
      }
    },
    {
      "cell_type": "code",
      "source": [
        "pol_orientation_set.remove('Centroizquierda')\n",
        "pol_orientation_set.add('Centro-izquierda')\n",
        "pol_orientation_set"
      ],
      "metadata": {
        "colab": {
          "base_uri": "https://localhost:8080/"
        },
        "id": "ThDVUoEMdilm",
        "outputId": "060f338b-da7c-4b9f-feb1-36634cd00745"
      },
      "execution_count": 62,
      "outputs": [
        {
          "output_type": "execute_result",
          "data": {
            "text/plain": [
              "{'Centro', 'Centro-izquierda', 'Centroderecha', 'Derecha', 'Izquierda'}"
            ]
          },
          "metadata": {},
          "execution_count": 62
        }
      ]
    },
    {
      "cell_type": "markdown",
      "source": [
        "Se reemplazó Centroizquierda por Centro-izquierda."
      ],
      "metadata": {
        "id": "MJtOr6speGSl"
      }
    },
    {
      "cell_type": "markdown",
      "source": [
        "Eliminación"
      ],
      "metadata": {
        "id": "OP1Gx46AeKPe"
      }
    },
    {
      "cell_type": "code",
      "source": [
        "pol_orientation_set.discard('Centro')\n",
        "pol_orientation_set"
      ],
      "metadata": {
        "colab": {
          "base_uri": "https://localhost:8080/"
        },
        "id": "2i6-oLDqePKt",
        "outputId": "e77311a5-43d2-42e8-9639-3b615f4d9054"
      },
      "execution_count": 63,
      "outputs": [
        {
          "output_type": "execute_result",
          "data": {
            "text/plain": [
              "{'Centro-izquierda', 'Centroderecha', 'Derecha', 'Izquierda'}"
            ]
          },
          "metadata": {},
          "execution_count": 63
        }
      ]
    },
    {
      "cell_type": "markdown",
      "source": [
        "Se eliminó el elemento Centro del conjunto."
      ],
      "metadata": {
        "id": "zTyJrJTEeUqd"
      }
    },
    {
      "cell_type": "code",
      "source": [
        "toDelete = ['Centroderecha']\n",
        "\n",
        "pol_orientation_set.difference_update(toDelete)\n",
        "pol_orientation_set"
      ],
      "metadata": {
        "colab": {
          "base_uri": "https://localhost:8080/"
        },
        "id": "zNN8WBYoet1V",
        "outputId": "75c5b3c1-e1ad-45b7-9acb-3abababd1ec2"
      },
      "execution_count": 64,
      "outputs": [
        {
          "output_type": "execute_result",
          "data": {
            "text/plain": [
              "{'Centro-izquierda', 'Derecha', 'Izquierda'}"
            ]
          },
          "metadata": {},
          "execution_count": 64
        }
      ]
    },
    {
      "cell_type": "markdown",
      "source": [
        "Se eliminó el elemento Centroderecha del conjunto."
      ],
      "metadata": {
        "id": "6c4O2c-De89N"
      }
    },
    {
      "cell_type": "code",
      "source": [
        "pol_orientation_set.clear()\n",
        "pol_orientation_set"
      ],
      "metadata": {
        "colab": {
          "base_uri": "https://localhost:8080/"
        },
        "id": "pcwX3684fBco",
        "outputId": "44b6ed0c-609c-4530-b81b-f41ae819ebaa"
      },
      "execution_count": 65,
      "outputs": [
        {
          "output_type": "execute_result",
          "data": {
            "text/plain": [
              "set()"
            ]
          },
          "metadata": {},
          "execution_count": 65
        }
      ]
    },
    {
      "cell_type": "markdown",
      "source": [
        "Se eliminaron todos los elementos."
      ],
      "metadata": {
        "id": "IUNa82PcfFAV"
      }
    },
    {
      "cell_type": "markdown",
      "source": [
        "Inserción"
      ],
      "metadata": {
        "id": "ETAM-Tg4fMDP"
      }
    },
    {
      "cell_type": "code",
      "source": [
        "ages_set={53,60,78,37,63,62,63,36,42,65,64,70,78,70,45,61,56,50,61}\n",
        "ages_set"
      ],
      "metadata": {
        "colab": {
          "base_uri": "https://localhost:8080/"
        },
        "id": "NwROa-83fNGN",
        "outputId": "b90092cc-2d91-4c66-df7b-e447d3ae7fac"
      },
      "execution_count": 66,
      "outputs": [
        {
          "output_type": "execute_result",
          "data": {
            "text/plain": [
              "{36, 37, 42, 45, 50, 53, 56, 60, 61, 62, 63, 64, 65, 70, 78}"
            ]
          },
          "metadata": {},
          "execution_count": 66
        }
      ]
    },
    {
      "cell_type": "code",
      "source": [
        "ages_set.update((46,))\n",
        "ages_set"
      ],
      "metadata": {
        "colab": {
          "base_uri": "https://localhost:8080/"
        },
        "id": "hhnWkc2Qfcj9",
        "outputId": "7891a1a7-ba13-43a8-e763-a56435adea76"
      },
      "execution_count": 67,
      "outputs": [
        {
          "output_type": "execute_result",
          "data": {
            "text/plain": [
              "{36, 37, 42, 45, 46, 50, 53, 56, 60, 61, 62, 63, 64, 65, 70, 78}"
            ]
          },
          "metadata": {},
          "execution_count": 67
        }
      ]
    },
    {
      "cell_type": "markdown",
      "source": [
        "Se añadió el número 46."
      ],
      "metadata": {
        "id": "r1yewAGMgFY8"
      }
    },
    {
      "cell_type": "code",
      "source": [
        "ages_set.update((59,99,))\n",
        "ages_set"
      ],
      "metadata": {
        "colab": {
          "base_uri": "https://localhost:8080/"
        },
        "id": "40KYp9LrfnTN",
        "outputId": "06ee4fd8-9059-491b-ed7d-1363aefa7cc9"
      },
      "execution_count": 68,
      "outputs": [
        {
          "output_type": "execute_result",
          "data": {
            "text/plain": [
              "{36, 37, 42, 45, 46, 50, 53, 56, 59, 60, 61, 62, 63, 64, 65, 70, 78, 99}"
            ]
          },
          "metadata": {},
          "execution_count": 68
        }
      ]
    },
    {
      "cell_type": "markdown",
      "source": [
        "Se añadieron los números 59 y 99."
      ],
      "metadata": {
        "id": "1UZS5pzpgHV0"
      }
    },
    {
      "cell_type": "markdown",
      "source": [
        "Otras operaciones"
      ],
      "metadata": {
        "id": "rvl_jJaDgDJM"
      }
    },
    {
      "cell_type": "code",
      "source": [
        "conjunto_COL={\"Colombia\",\"Petro\",\"63\",\"Izquierda\"}\n",
        "conjunto_CUB={\"Cuba\",\"Díaz-Canel\",\"63\",\"Izquierda\"}\n",
        "conjunto_VEN={\"Venezuela\",\"Maduro\",\"61\",\"Izquierda\"}"
      ],
      "metadata": {
        "id": "SO3s7NUCgKTl"
      },
      "execution_count": 69,
      "outputs": []
    },
    {
      "cell_type": "code",
      "source": [
        "#Unión\n",
        "newset=conjunto_COL|conjunto_VEN\n",
        "newset"
      ],
      "metadata": {
        "colab": {
          "base_uri": "https://localhost:8080/"
        },
        "id": "aJv4U2bHhTTK",
        "outputId": "a493c22b-7ac0-4c15-dac0-aac51b83146e"
      },
      "execution_count": 70,
      "outputs": [
        {
          "output_type": "execute_result",
          "data": {
            "text/plain": [
              "{'61', '63', 'Colombia', 'Izquierda', 'Maduro', 'Petro', 'Venezuela'}"
            ]
          },
          "metadata": {},
          "execution_count": 70
        }
      ]
    },
    {
      "cell_type": "code",
      "source": [
        "#Intersección\n",
        "newset2=conjunto_COL&conjunto_CUB\n",
        "newset2"
      ],
      "metadata": {
        "colab": {
          "base_uri": "https://localhost:8080/"
        },
        "id": "3uNkT1T_hom1",
        "outputId": "83a0056d-92b1-4e5a-8f02-88317cb2315a"
      },
      "execution_count": 71,
      "outputs": [
        {
          "output_type": "execute_result",
          "data": {
            "text/plain": [
              "{'63', 'Izquierda'}"
            ]
          },
          "metadata": {},
          "execution_count": 71
        }
      ]
    },
    {
      "cell_type": "code",
      "source": [
        "#Diferencia\n",
        "newset3=conjunto_VEN-conjunto_CUB\n",
        "newset3"
      ],
      "metadata": {
        "colab": {
          "base_uri": "https://localhost:8080/"
        },
        "id": "PSl0h0Ybh2KM",
        "outputId": "6fcd3871-c378-441a-8637-37510c225ebc"
      },
      "execution_count": 72,
      "outputs": [
        {
          "output_type": "execute_result",
          "data": {
            "text/plain": [
              "{'61', 'Maduro', 'Venezuela'}"
            ]
          },
          "metadata": {},
          "execution_count": 72
        }
      ]
    },
    {
      "cell_type": "code",
      "source": [
        "#Diferencia simétrica\n",
        "newset4=conjunto_CUB-conjunto_COL\n",
        "newset4"
      ],
      "metadata": {
        "colab": {
          "base_uri": "https://localhost:8080/"
        },
        "id": "o-LcIwrhiAW6",
        "outputId": "40d1dc02-533c-4311-af40-fa6dadc502ad"
      },
      "execution_count": 73,
      "outputs": [
        {
          "output_type": "execute_result",
          "data": {
            "text/plain": [
              "{'Cuba', 'Díaz-Canel'}"
            ]
          },
          "metadata": {},
          "execution_count": 73
        }
      ]
    },
    {
      "cell_type": "markdown",
      "source": [
        "Conjuntos en R"
      ],
      "metadata": {
        "id": "-756spi6iL8s"
      }
    },
    {
      "cell_type": "code",
      "source": [
        "%%R\n",
        "set1R=c(\"Colombia\",\"Petro\",\"63\",\"Izquierda\")\n",
        "set2R=c(\"Cuba\",\"Díaz-Canel\",\"63\",\"Izquierda\")\n",
        "set3R=c(\"Venezuela\",\"Maduro\",\"61\",\"Izquierda\")"
      ],
      "metadata": {
        "id": "DqrDpTXyiNRT"
      },
      "execution_count": 74,
      "outputs": []
    },
    {
      "cell_type": "code",
      "source": [
        "#Unión\n",
        "%%R\n",
        "union(set1R,set2R)"
      ],
      "metadata": {
        "colab": {
          "base_uri": "https://localhost:8080/"
        },
        "id": "S24g4Segkzwq",
        "outputId": "8a54f770-4223-4d14-f649-075a54d74af0"
      },
      "execution_count": 75,
      "outputs": [
        {
          "output_type": "stream",
          "name": "stdout",
          "text": [
            "[1] \"Colombia\"   \"Petro\"      \"63\"         \"Izquierda\"  \"Cuba\"      \n",
            "[6] \"Díaz-Canel\"\n"
          ]
        }
      ]
    },
    {
      "cell_type": "code",
      "source": [
        "#Intersección\n",
        "%%R\n",
        "intersect(set1R,set3R)"
      ],
      "metadata": {
        "colab": {
          "base_uri": "https://localhost:8080/"
        },
        "id": "EzTdb_7Tk1E9",
        "outputId": "c289e54f-8895-427a-e829-53d8e5992219"
      },
      "execution_count": 76,
      "outputs": [
        {
          "output_type": "stream",
          "name": "stdout",
          "text": [
            "[1] \"Izquierda\"\n"
          ]
        }
      ]
    },
    {
      "cell_type": "code",
      "source": [
        "#Diferencia\n",
        "%%R\n",
        "setdiff(set2R,set3R)"
      ],
      "metadata": {
        "colab": {
          "base_uri": "https://localhost:8080/"
        },
        "id": "AjQQwmeik6G6",
        "outputId": "7acef787-4fd2-4a49-b686-5e37984fac9a"
      },
      "execution_count": 77,
      "outputs": [
        {
          "output_type": "stream",
          "name": "stdout",
          "text": [
            "[1] \"Cuba\"       \"Díaz-Canel\" \"63\"        \n"
          ]
        }
      ]
    },
    {
      "cell_type": "code",
      "source": [
        "#Diferencia simétrica\n",
        "%%R\n",
        "setdiff(union(set2R,set3R),intersect(set2R,set3R))"
      ],
      "metadata": {
        "colab": {
          "base_uri": "https://localhost:8080/"
        },
        "id": "ikb-2ek-k9xM",
        "outputId": "5aecefd8-c7b5-40ba-bb3b-f9eb12791f8d"
      },
      "execution_count": 78,
      "outputs": [
        {
          "output_type": "stream",
          "name": "stdout",
          "text": [
            "[1] \"Cuba\"       \"Díaz-Canel\" \"63\"         \"Venezuela\"  \"Maduro\"    \n",
            "[6] \"61\"        \n"
          ]
        }
      ]
    }
  ]
}