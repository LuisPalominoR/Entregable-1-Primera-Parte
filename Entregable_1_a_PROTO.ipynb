{
  "nbformat": 4,
  "nbformat_minor": 0,
  "metadata": {
    "colab": {
      "provenance": [],
      "authorship_tag": "ABX9TyPaeFhLXBjEene8lGVWjBon",
      "include_colab_link": true
    },
    "kernelspec": {
      "name": "python3",
      "display_name": "Python 3"
    },
    "language_info": {
      "name": "python"
    }
  },
  "cells": [
    {
      "cell_type": "markdown",
      "metadata": {
        "id": "view-in-github",
        "colab_type": "text"
      },
      "source": [
        "<a href=\"https://colab.research.google.com/github/LuisPalominoR/Entregable-1-Primera-Parte/blob/main/Entregable_1_a_PROTO.ipynb\" target=\"_parent\"><img src=\"https://colab.research.google.com/assets/colab-badge.svg\" alt=\"Open In Colab\"/></a>"
      ]
    },
    {
      "cell_type": "code",
      "execution_count": null,
      "metadata": {
        "colab": {
          "base_uri": "https://localhost:8080/"
        },
        "id": "mPwnVD3j8XPw",
        "outputId": "e45ae8df-5bec-414a-ae58-590e5899026a"
      },
      "outputs": [
        {
          "output_type": "stream",
          "name": "stdout",
          "text": [
            "The rpy2.ipython extension is already loaded. To reload it, use:\n",
            "  %reload_ext rpy2.ipython\n"
          ]
        }
      ],
      "source": [
        "%load_ext rpy2.ipython"
      ]
    },
    {
      "cell_type": "markdown",
      "source": [
        "**Listas**"
      ],
      "metadata": {
        "id": "-VuXn3A7b97Q"
      }
    },
    {
      "cell_type": "markdown",
      "source": [
        "**Creación de data**"
      ],
      "metadata": {
        "id": "6N4R-R6BANdl"
      }
    },
    {
      "cell_type": "code",
      "source": [
        "SurnamesP=[\"Milei\", \"Arce\", \"da Silva\", \"Boric\", \"Petro\", \"Chaves\", \"Díaz-Canel\",\n",
        "           \"Noboa\", \"Bukele\", \"Arévalo\", \"Castro\", \"López Obrador\",\n",
        "           \"Ortega\", \"Cortizo\", \"Peña\", \"Boluarte\", \"Abinader\", \"Lacalle Pou\", \"Maduro\"]\n",
        "agesP=[53,60,78,37,63,62,63,36,42,65,64,70,78,70,45,61,56,50,61]\n",
        "countriesP=[\"Argentina\", \"Bolivia\", \"Brasil\", \"Chile\", \"Colombia\", \"Costa Rica\", \"Cuba\",\n",
        "            \"Ecuador\", \"El Salvador\", \"Guatemala\", \"Honduras\", \"México\", \"Nicaragua\", \"Panamá\",\n",
        "            \"Paraguay\", \"Perú\", \"República Dominicana\", \"Uruguay\", \"Venezuela\"]\n",
        "pol_orientationP=[\"Derecha\", \"Izquierda\", \"Izquierda\", \"Centroizquierda\", \"Izquierda\", \"Centroderecha\",\n",
        "                  \"Izquierda\", \"Centroderecha\", \"Centro\", \"Izquierda\", \"Centroizquierda\", \"Izquierda\",\n",
        "                  \"Izquierda\", \"Centro\", \"Centroderecha\", \"Centro\", \"Centroizquierda\", \"Centroderecha\",\n",
        "                  \"Izquierda\"]"
      ],
      "metadata": {
        "id": "Hd_d6NZN8cX4"
      },
      "execution_count": null,
      "outputs": []
    },
    {
      "cell_type": "code",
      "source": [
        "type(SurnamesP)"
      ],
      "metadata": {
        "colab": {
          "base_uri": "https://localhost:8080/"
        },
        "id": "zFcAZhAo_JNn",
        "outputId": "b981f8b1-3bfc-4f8d-b0ba-355d2f0d67c5"
      },
      "execution_count": null,
      "outputs": [
        {
          "output_type": "execute_result",
          "data": {
            "text/plain": [
              "list"
            ]
          },
          "metadata": {},
          "execution_count": 132
        }
      ]
    },
    {
      "cell_type": "code",
      "source": [
        "SurnamesP"
      ],
      "metadata": {
        "colab": {
          "base_uri": "https://localhost:8080/"
        },
        "id": "F8n6h64C_OX9",
        "outputId": "593b0b92-c247-463e-d34c-f4b0af837cfe"
      },
      "execution_count": null,
      "outputs": [
        {
          "output_type": "execute_result",
          "data": {
            "text/plain": [
              "['Milei',\n",
              " 'Arce',\n",
              " 'da Silva',\n",
              " 'Boric',\n",
              " 'Petro',\n",
              " 'Chaves',\n",
              " 'Díaz-Canel',\n",
              " 'Noboa',\n",
              " 'Bukele',\n",
              " 'Arévalo',\n",
              " 'Castro',\n",
              " 'López Obrador',\n",
              " 'Ortega',\n",
              " 'Cortizo',\n",
              " 'Peña',\n",
              " 'Boluarte',\n",
              " 'Abinader',\n",
              " 'Lacalle Pou',\n",
              " 'Maduro']"
            ]
          },
          "metadata": {},
          "execution_count": 133
        }
      ]
    },
    {
      "cell_type": "code",
      "source": [
        "%%R\n",
        "SurnamesR=list(\"Milei\", \"Arce\", \"da Silva\", \"Boric\", \"Petro\", \"Chaves\", \"Díaz-Canel\",\n",
        "           \"Noboa\", \"Bukele\", \"Arévalo\", \"Castro\", \"López Obrador\",\n",
        "           \"Ortega\", \"Cortizo\", \"Peña\", \"Boluarte\", \"Abinader\", \"Lacalle Pou\", \"Maduro\")\n",
        "agesR=list(53,60,78,37,63,62,63,36,42,65,64,70,78,70,45,61,56,50,61)\n",
        "countriesR=list(\"Argentina\", \"Bolivia\", \"Brasil\", \"Chile\", \"Colombia\", \"Costa Rica\", \"Cuba\",\n",
        "            \"Ecuador\", \"El Salvador\", \"Guatemala\", \"Honduras\", \"México\", \"Nicaragua\", \"Panamá\",\n",
        "            \"Paraguay\", \"Perú\", \"República Dominicana\", \"Uruguay\", \"Venezuela\")\n",
        "pol_orientationR=list(\"Derecha\", \"Izquierda\", \"Izquierda\", \"Centroizquierda\", \"Izquierda\", \"Centroderecha\",\n",
        "                  \"Izquierda\", \"Centroderecha\", \"Centro\", \"Izquierda\", \"Centroizquierda\", \"Izquierda\",\n",
        "                  \"Izquierda\", \"Centro\", \"Centroderecha\", \"Centro\", \"Centroizquierda\", \"Centroderecha\",\n",
        "                  \"Izquierda\")"
      ],
      "metadata": {
        "id": "mnHypq8K_SK8"
      },
      "execution_count": null,
      "outputs": []
    },
    {
      "cell_type": "code",
      "source": [
        "%%R\n",
        "typeof(SurnamesR)"
      ],
      "metadata": {
        "colab": {
          "base_uri": "https://localhost:8080/"
        },
        "id": "PqRO-q11_441",
        "outputId": "63a4e5f9-91a5-49a9-f4c5-8ca043c9f176"
      },
      "execution_count": null,
      "outputs": [
        {
          "output_type": "stream",
          "name": "stdout",
          "text": [
            "[1] \"list\"\n"
          ]
        }
      ]
    },
    {
      "cell_type": "code",
      "source": [
        "%%R\n",
        "SurnamesR"
      ],
      "metadata": {
        "colab": {
          "base_uri": "https://localhost:8080/"
        },
        "id": "yJ39UbJc_uCp",
        "outputId": "08ac8ce3-9c1c-496e-9b86-92434945e575"
      },
      "execution_count": null,
      "outputs": [
        {
          "output_type": "stream",
          "name": "stdout",
          "text": [
            "[[1]]\n",
            "[1] \"Milei\"\n",
            "\n",
            "[[2]]\n",
            "[1] \"Arce\"\n",
            "\n",
            "[[3]]\n",
            "[1] \"da Silva\"\n",
            "\n",
            "[[4]]\n",
            "[1] \"Boric\"\n",
            "\n",
            "[[5]]\n",
            "[1] \"Petro\"\n",
            "\n",
            "[[6]]\n",
            "[1] \"Chaves\"\n",
            "\n",
            "[[7]]\n",
            "[1] \"Díaz-Canel\"\n",
            "\n",
            "[[8]]\n",
            "[1] \"Noboa\"\n",
            "\n",
            "[[9]]\n",
            "[1] \"Bukele\"\n",
            "\n",
            "[[10]]\n",
            "[1] \"Arévalo\"\n",
            "\n",
            "[[11]]\n",
            "[1] \"Castro\"\n",
            "\n",
            "[[12]]\n",
            "[1] \"López Obrador\"\n",
            "\n",
            "[[13]]\n",
            "[1] \"Ortega\"\n",
            "\n",
            "[[14]]\n",
            "[1] \"Cortizo\"\n",
            "\n",
            "[[15]]\n",
            "[1] \"Peña\"\n",
            "\n",
            "[[16]]\n",
            "[1] \"Boluarte\"\n",
            "\n",
            "[[17]]\n",
            "[1] \"Abinader\"\n",
            "\n",
            "[[18]]\n",
            "[1] \"Lacalle Pou\"\n",
            "\n",
            "[[19]]\n",
            "[1] \"Maduro\"\n",
            "\n"
          ]
        }
      ]
    },
    {
      "cell_type": "markdown",
      "source": [
        "**Acceso a la data**"
      ],
      "metadata": {
        "id": "DtRo09J4AThC"
      }
    },
    {
      "cell_type": "code",
      "source": [
        "agesP[10]"
      ],
      "metadata": {
        "colab": {
          "base_uri": "https://localhost:8080/"
        },
        "id": "e6UMMZl3AVzb",
        "outputId": "957ca398-4706-4cba-b178-ce7e25fdcdb7"
      },
      "execution_count": null,
      "outputs": [
        {
          "output_type": "execute_result",
          "data": {
            "text/plain": [
              "64"
            ]
          },
          "metadata": {},
          "execution_count": 137
        }
      ]
    },
    {
      "cell_type": "markdown",
      "source": [
        "La edad del presidente en la posición #11 es 64 años."
      ],
      "metadata": {
        "id": "vlhBZTneBzAD"
      }
    },
    {
      "cell_type": "code",
      "source": [
        "type(agesP[10])"
      ],
      "metadata": {
        "colab": {
          "base_uri": "https://localhost:8080/"
        },
        "id": "t-fZRm24BxKd",
        "outputId": "008a0723-9d1e-4d01-c548-404a90f6d117"
      },
      "execution_count": null,
      "outputs": [
        {
          "output_type": "execute_result",
          "data": {
            "text/plain": [
              "int"
            ]
          },
          "metadata": {},
          "execution_count": 138
        }
      ]
    },
    {
      "cell_type": "code",
      "source": [
        "%%R\n",
        "agesR[[11]]"
      ],
      "metadata": {
        "colab": {
          "base_uri": "https://localhost:8080/"
        },
        "id": "Y70t6322Czbv",
        "outputId": "129ca928-6404-4aa4-f79b-6c28fd654f6e"
      },
      "execution_count": null,
      "outputs": [
        {
          "output_type": "stream",
          "name": "stdout",
          "text": [
            "[1] 64\n"
          ]
        }
      ]
    },
    {
      "cell_type": "markdown",
      "source": [
        "La edad del presidente en la posición #10 es 64 años."
      ],
      "metadata": {
        "id": "P8HqTr3WC4xM"
      }
    },
    {
      "cell_type": "code",
      "source": [
        "%%R\n",
        "typeof(agesR[[10]])"
      ],
      "metadata": {
        "colab": {
          "base_uri": "https://localhost:8080/"
        },
        "id": "uNIcoNRUC8JM",
        "outputId": "59889c29-01fc-4203-a85d-7d824f6ac1e6"
      },
      "execution_count": null,
      "outputs": [
        {
          "output_type": "stream",
          "name": "stdout",
          "text": [
            "[1] \"double\"\n"
          ]
        }
      ]
    },
    {
      "cell_type": "code",
      "source": [
        "%%R\n",
        "agesR[10]"
      ],
      "metadata": {
        "colab": {
          "base_uri": "https://localhost:8080/"
        },
        "id": "tBAvgBMSDWVK",
        "outputId": "94b29ad9-efac-4010-fd68-7030037a6e13"
      },
      "execution_count": null,
      "outputs": [
        {
          "output_type": "stream",
          "name": "stdout",
          "text": [
            "[[1]]\n",
            "[1] 65\n",
            "\n"
          ]
        }
      ]
    },
    {
      "cell_type": "code",
      "source": [
        "%%R\n",
        "typeof(agesR[10])"
      ],
      "metadata": {
        "colab": {
          "base_uri": "https://localhost:8080/"
        },
        "id": "l7adkcIBDZqr",
        "outputId": "ebe01344-8f2c-4efe-a8e3-6eed1edb7105"
      },
      "execution_count": null,
      "outputs": [
        {
          "output_type": "stream",
          "name": "stdout",
          "text": [
            "[1] \"list\"\n"
          ]
        }
      ]
    },
    {
      "cell_type": "code",
      "source": [
        "#Último elemento\n",
        "countriesP[-1]"
      ],
      "metadata": {
        "colab": {
          "base_uri": "https://localhost:8080/",
          "height": 36
        },
        "id": "-w_O8xN2DD1L",
        "outputId": "409f55c2-a2b1-410d-b050-3729162af48e"
      },
      "execution_count": null,
      "outputs": [
        {
          "output_type": "execute_result",
          "data": {
            "text/plain": [
              "'Venezuela'"
            ],
            "application/vnd.google.colaboratory.intrinsic+json": {
              "type": "string"
            }
          },
          "metadata": {},
          "execution_count": 143
        }
      ]
    },
    {
      "cell_type": "code",
      "source": [
        "%%R\n",
        "tail(countriesR,1)"
      ],
      "metadata": {
        "colab": {
          "base_uri": "https://localhost:8080/"
        },
        "id": "y73uwn1DDTez",
        "outputId": "edc46df3-aea0-4c36-b77c-f45e7fcf4c4f"
      },
      "execution_count": null,
      "outputs": [
        {
          "output_type": "stream",
          "name": "stdout",
          "text": [
            "[[1]]\n",
            "[1] \"Venezuela\"\n",
            "\n"
          ]
        }
      ]
    },
    {
      "cell_type": "markdown",
      "source": [
        "El último país es Venezuela."
      ],
      "metadata": {
        "id": "wI8x4dTnDfTy"
      }
    },
    {
      "cell_type": "markdown",
      "source": [
        "Cortes\n",
        "\n"
      ],
      "metadata": {
        "id": "8RiVOKKREAHK"
      }
    },
    {
      "cell_type": "code",
      "source": [
        "#De forma consecutiva\n",
        "agesP[1:10] #Segundo al décimo"
      ],
      "metadata": {
        "colab": {
          "base_uri": "https://localhost:8080/"
        },
        "id": "AIvSjCENEP3y",
        "outputId": "6a429f20-8fa0-48ac-e193-25f154692aa8"
      },
      "execution_count": null,
      "outputs": [
        {
          "output_type": "execute_result",
          "data": {
            "text/plain": [
              "[60, 78, 37, 63, 62, 63, 36, 42, 65]"
            ]
          },
          "metadata": {},
          "execution_count": 145
        }
      ]
    },
    {
      "cell_type": "code",
      "source": [
        "%%R\n",
        "agesR[2:10]"
      ],
      "metadata": {
        "colab": {
          "base_uri": "https://localhost:8080/"
        },
        "id": "NFKT-YwUEYry",
        "outputId": "8bd78744-5bd7-4c7e-b304-3fce35b44920"
      },
      "execution_count": null,
      "outputs": [
        {
          "output_type": "stream",
          "name": "stdout",
          "text": [
            "[[1]]\n",
            "[1] 60\n",
            "\n",
            "[[2]]\n",
            "[1] 78\n",
            "\n",
            "[[3]]\n",
            "[1] 37\n",
            "\n",
            "[[4]]\n",
            "[1] 63\n",
            "\n",
            "[[5]]\n",
            "[1] 62\n",
            "\n",
            "[[6]]\n",
            "[1] 63\n",
            "\n",
            "[[7]]\n",
            "[1] 36\n",
            "\n",
            "[[8]]\n",
            "[1] 42\n",
            "\n",
            "[[9]]\n",
            "[1] 65\n",
            "\n"
          ]
        }
      ]
    },
    {
      "cell_type": "code",
      "source": [
        "#De forma no consecutiva con un patrón existente\n",
        "agesP[1:10:2] #Segundo al décimo cada 2 edades"
      ],
      "metadata": {
        "colab": {
          "base_uri": "https://localhost:8080/"
        },
        "id": "q0d21m0CEjBs",
        "outputId": "47b38db4-99fa-45c7-a37d-92a7944ac421"
      },
      "execution_count": null,
      "outputs": [
        {
          "output_type": "execute_result",
          "data": {
            "text/plain": [
              "[60, 37, 62, 36, 65]"
            ]
          },
          "metadata": {},
          "execution_count": 147
        }
      ]
    },
    {
      "cell_type": "code",
      "source": [
        "%%R\n",
        "agesR[seq(2,8,2)]"
      ],
      "metadata": {
        "colab": {
          "base_uri": "https://localhost:8080/"
        },
        "id": "pWR39exlGtwB",
        "outputId": "e7c752e5-0911-4f5e-acd2-3ac55ec30bc2"
      },
      "execution_count": null,
      "outputs": [
        {
          "output_type": "stream",
          "name": "stdout",
          "text": [
            "[[1]]\n",
            "[1] 60\n",
            "\n",
            "[[2]]\n",
            "[1] 37\n",
            "\n",
            "[[3]]\n",
            "[1] 62\n",
            "\n",
            "[[4]]\n",
            "[1] 36\n",
            "\n"
          ]
        }
      ]
    },
    {
      "cell_type": "code",
      "source": [
        "#De forma no consecutiva sin un patrón existente\n",
        "keepIndex=[0, 4, 18]\n",
        "[agesP[i] for i in keepIndex]"
      ],
      "metadata": {
        "colab": {
          "base_uri": "https://localhost:8080/"
        },
        "id": "QKp3ZjycGxrL",
        "outputId": "5f532c28-becf-42af-d8e3-3fda69f729eb"
      },
      "execution_count": null,
      "outputs": [
        {
          "output_type": "execute_result",
          "data": {
            "text/plain": [
              "[53, 63, 61]"
            ]
          },
          "metadata": {},
          "execution_count": 149
        }
      ]
    },
    {
      "cell_type": "code",
      "source": [
        "%%R\n",
        "agesR[c(1,5,19)]"
      ],
      "metadata": {
        "colab": {
          "base_uri": "https://localhost:8080/"
        },
        "id": "QZNX4OXZG9E5",
        "outputId": "788b3af1-d47d-4715-a88c-b2bbee79f699"
      },
      "execution_count": null,
      "outputs": [
        {
          "output_type": "stream",
          "name": "stdout",
          "text": [
            "[[1]]\n",
            "[1] 53\n",
            "\n",
            "[[2]]\n",
            "[1] 63\n",
            "\n",
            "[[3]]\n",
            "[1] 61\n",
            "\n"
          ]
        }
      ]
    },
    {
      "cell_type": "markdown",
      "source": [
        "Reemplazo por Posición"
      ],
      "metadata": {
        "id": "86MVjTBtHMjZ"
      }
    },
    {
      "cell_type": "code",
      "source": [
        "countriesP[2]=\"Brazil\"\n",
        "countriesP"
      ],
      "metadata": {
        "colab": {
          "base_uri": "https://localhost:8080/"
        },
        "id": "h_SLDSZYHWL6",
        "outputId": "ad7352e8-e8b8-4385-e694-1113547cfd72"
      },
      "execution_count": null,
      "outputs": [
        {
          "output_type": "execute_result",
          "data": {
            "text/plain": [
              "['Argentina',\n",
              " 'Bolivia',\n",
              " 'Brazil',\n",
              " 'Chile',\n",
              " 'Colombia',\n",
              " 'Costa Rica',\n",
              " 'Cuba',\n",
              " 'Ecuador',\n",
              " 'El Salvador',\n",
              " 'Guatemala',\n",
              " 'Honduras',\n",
              " 'México',\n",
              " 'Nicaragua',\n",
              " 'Panamá',\n",
              " 'Paraguay',\n",
              " 'Perú',\n",
              " 'República Dominicana',\n",
              " 'Uruguay',\n",
              " 'Venezuela']"
            ]
          },
          "metadata": {},
          "execution_count": 151
        }
      ]
    },
    {
      "cell_type": "markdown",
      "source": [
        "Modificación de Brasil por Brazil."
      ],
      "metadata": {
        "id": "IOlw7GLLHp95"
      }
    },
    {
      "cell_type": "code",
      "source": [
        "%%R\n",
        "countriesR[[3]]=\"Brazil\"\n",
        "countriesR"
      ],
      "metadata": {
        "colab": {
          "base_uri": "https://localhost:8080/"
        },
        "id": "p95wMY7YHs37",
        "outputId": "438cf466-58ce-4a7d-d56f-5105e1c7d9d6"
      },
      "execution_count": null,
      "outputs": [
        {
          "output_type": "stream",
          "name": "stdout",
          "text": [
            "[[1]]\n",
            "[1] \"Argentina\"\n",
            "\n",
            "[[2]]\n",
            "[1] \"Bolivia\"\n",
            "\n",
            "[[3]]\n",
            "[1] \"Brazil\"\n",
            "\n",
            "[[4]]\n",
            "[1] \"Chile\"\n",
            "\n",
            "[[5]]\n",
            "[1] \"Colombia\"\n",
            "\n",
            "[[6]]\n",
            "[1] \"Costa Rica\"\n",
            "\n",
            "[[7]]\n",
            "[1] \"Cuba\"\n",
            "\n",
            "[[8]]\n",
            "[1] \"Ecuador\"\n",
            "\n",
            "[[9]]\n",
            "[1] \"El Salvador\"\n",
            "\n",
            "[[10]]\n",
            "[1] \"Guatemala\"\n",
            "\n",
            "[[11]]\n",
            "[1] \"Honduras\"\n",
            "\n",
            "[[12]]\n",
            "[1] \"México\"\n",
            "\n",
            "[[13]]\n",
            "[1] \"Nicaragua\"\n",
            "\n",
            "[[14]]\n",
            "[1] \"Panamá\"\n",
            "\n",
            "[[15]]\n",
            "[1] \"Paraguay\"\n",
            "\n",
            "[[16]]\n",
            "[1] \"Perú\"\n",
            "\n",
            "[[17]]\n",
            "[1] \"República Dominicana\"\n",
            "\n",
            "[[18]]\n",
            "[1] \"Uruguay\"\n",
            "\n",
            "[[19]]\n",
            "[1] \"Venezuela\"\n",
            "\n"
          ]
        }
      ]
    },
    {
      "cell_type": "markdown",
      "source": [
        "Modificación de Brasil por Brazil."
      ],
      "metadata": {
        "id": "29KtSEqtH3Co"
      }
    },
    {
      "cell_type": "markdown",
      "source": [
        "Reemplazo por Valor"
      ],
      "metadata": {
        "id": "o8S-AhI7H9da"
      }
    },
    {
      "cell_type": "code",
      "source": [
        "countriesP"
      ],
      "metadata": {
        "colab": {
          "base_uri": "https://localhost:8080/"
        },
        "id": "IVR0jFLgJq4C",
        "outputId": "83f0776c-444a-43e2-ff58-61560b7ac74c"
      },
      "execution_count": null,
      "outputs": [
        {
          "output_type": "execute_result",
          "data": {
            "text/plain": [
              "['Argentina',\n",
              " 'Bolivia',\n",
              " 'Brazil',\n",
              " 'Chile',\n",
              " 'Colombia',\n",
              " 'Costa Rica',\n",
              " 'Cuba',\n",
              " 'Ecuador',\n",
              " 'El Salvador',\n",
              " 'Guatemala',\n",
              " 'Honduras',\n",
              " 'México',\n",
              " 'Nicaragua',\n",
              " 'Panamá',\n",
              " 'Paraguay',\n",
              " 'Perú',\n",
              " 'República Dominicana',\n",
              " 'Uruguay',\n",
              " 'Venezuela']"
            ]
          },
          "metadata": {},
          "execution_count": 153
        }
      ]
    },
    {
      "cell_type": "code",
      "source": [
        "countriesP = [\"Estados Unidos Mexicanos\" if country == \"México\" else country for country in countriesP]\n",
        "countriesP"
      ],
      "metadata": {
        "colab": {
          "base_uri": "https://localhost:8080/"
        },
        "id": "3xsDFGFpJtAZ",
        "outputId": "75b11c11-5715-4349-81af-fe0ce3055f3c"
      },
      "execution_count": null,
      "outputs": [
        {
          "output_type": "execute_result",
          "data": {
            "text/plain": [
              "['Argentina',\n",
              " 'Bolivia',\n",
              " 'Brazil',\n",
              " 'Chile',\n",
              " 'Colombia',\n",
              " 'Costa Rica',\n",
              " 'Cuba',\n",
              " 'Ecuador',\n",
              " 'El Salvador',\n",
              " 'Guatemala',\n",
              " 'Honduras',\n",
              " 'Estados Unidos Mexicanos',\n",
              " 'Nicaragua',\n",
              " 'Panamá',\n",
              " 'Paraguay',\n",
              " 'Perú',\n",
              " 'República Dominicana',\n",
              " 'Uruguay',\n",
              " 'Venezuela']"
            ]
          },
          "metadata": {},
          "execution_count": 154
        }
      ]
    },
    {
      "cell_type": "markdown",
      "source": [
        "Modificación de México por Estados Unidos Mexicanos"
      ],
      "metadata": {
        "id": "ZVGHFM3kLI3R"
      }
    },
    {
      "cell_type": "code",
      "source": [
        "%%R\n",
        "countriesR[countriesR=='México']=\"Estados Unidos Mexicanos\"\n",
        "countriesR"
      ],
      "metadata": {
        "colab": {
          "base_uri": "https://localhost:8080/"
        },
        "id": "hxyXVEIpJ1gR",
        "outputId": "4662820c-3b13-47ca-f4ff-b96cb5f390c4"
      },
      "execution_count": null,
      "outputs": [
        {
          "output_type": "stream",
          "name": "stdout",
          "text": [
            "[[1]]\n",
            "[1] \"Argentina\"\n",
            "\n",
            "[[2]]\n",
            "[1] \"Bolivia\"\n",
            "\n",
            "[[3]]\n",
            "[1] \"Brazil\"\n",
            "\n",
            "[[4]]\n",
            "[1] \"Chile\"\n",
            "\n",
            "[[5]]\n",
            "[1] \"Colombia\"\n",
            "\n",
            "[[6]]\n",
            "[1] \"Costa Rica\"\n",
            "\n",
            "[[7]]\n",
            "[1] \"Cuba\"\n",
            "\n",
            "[[8]]\n",
            "[1] \"Ecuador\"\n",
            "\n",
            "[[9]]\n",
            "[1] \"El Salvador\"\n",
            "\n",
            "[[10]]\n",
            "[1] \"Guatemala\"\n",
            "\n",
            "[[11]]\n",
            "[1] \"Honduras\"\n",
            "\n",
            "[[12]]\n",
            "[1] \"Estados Unidos Mexicanos\"\n",
            "\n",
            "[[13]]\n",
            "[1] \"Nicaragua\"\n",
            "\n",
            "[[14]]\n",
            "[1] \"Panamá\"\n",
            "\n",
            "[[15]]\n",
            "[1] \"Paraguay\"\n",
            "\n",
            "[[16]]\n",
            "[1] \"Perú\"\n",
            "\n",
            "[[17]]\n",
            "[1] \"República Dominicana\"\n",
            "\n",
            "[[18]]\n",
            "[1] \"Uruguay\"\n",
            "\n",
            "[[19]]\n",
            "[1] \"Venezuela\"\n",
            "\n"
          ]
        }
      ]
    },
    {
      "cell_type": "markdown",
      "source": [
        "Modificación de México por Estados Unidos Mexicanos."
      ],
      "metadata": {
        "id": "pdYmgAgRLO8A"
      }
    },
    {
      "cell_type": "markdown",
      "source": [
        "Eliminación por Posición"
      ],
      "metadata": {
        "id": "ERMgzHyzLpMH"
      }
    },
    {
      "cell_type": "code",
      "source": [
        "del countriesP[-3]\n",
        "countriesP"
      ],
      "metadata": {
        "colab": {
          "base_uri": "https://localhost:8080/"
        },
        "id": "wqWovnmbLn15",
        "outputId": "9e021286-e27a-467e-9b56-705451baf6cf"
      },
      "execution_count": null,
      "outputs": [
        {
          "output_type": "execute_result",
          "data": {
            "text/plain": [
              "['Argentina',\n",
              " 'Bolivia',\n",
              " 'Brazil',\n",
              " 'Chile',\n",
              " 'Colombia',\n",
              " 'Costa Rica',\n",
              " 'Cuba',\n",
              " 'Ecuador',\n",
              " 'El Salvador',\n",
              " 'Guatemala',\n",
              " 'Honduras',\n",
              " 'Estados Unidos Mexicanos',\n",
              " 'Nicaragua',\n",
              " 'Panamá',\n",
              " 'Paraguay',\n",
              " 'Perú',\n",
              " 'Uruguay',\n",
              " 'Venezuela']"
            ]
          },
          "metadata": {},
          "execution_count": 156
        }
      ]
    },
    {
      "cell_type": "markdown",
      "source": [
        "Se eliminó República Dominicana."
      ],
      "metadata": {
        "id": "KtBWFgF3L02O"
      }
    },
    {
      "cell_type": "code",
      "source": [
        "%%R\n",
        "countriesR[length(countriesR)]=NULL\n",
        "countriesR"
      ],
      "metadata": {
        "colab": {
          "base_uri": "https://localhost:8080/"
        },
        "id": "4Z7QFw0VL4Wu",
        "outputId": "8a064bc7-0059-430a-ba08-c8eac6faa76f"
      },
      "execution_count": null,
      "outputs": [
        {
          "output_type": "stream",
          "name": "stdout",
          "text": [
            "[[1]]\n",
            "[1] \"Argentina\"\n",
            "\n",
            "[[2]]\n",
            "[1] \"Bolivia\"\n",
            "\n",
            "[[3]]\n",
            "[1] \"Brazil\"\n",
            "\n",
            "[[4]]\n",
            "[1] \"Chile\"\n",
            "\n",
            "[[5]]\n",
            "[1] \"Colombia\"\n",
            "\n",
            "[[6]]\n",
            "[1] \"Costa Rica\"\n",
            "\n",
            "[[7]]\n",
            "[1] \"Cuba\"\n",
            "\n",
            "[[8]]\n",
            "[1] \"Ecuador\"\n",
            "\n",
            "[[9]]\n",
            "[1] \"El Salvador\"\n",
            "\n",
            "[[10]]\n",
            "[1] \"Guatemala\"\n",
            "\n",
            "[[11]]\n",
            "[1] \"Honduras\"\n",
            "\n",
            "[[12]]\n",
            "[1] \"Estados Unidos Mexicanos\"\n",
            "\n",
            "[[13]]\n",
            "[1] \"Nicaragua\"\n",
            "\n",
            "[[14]]\n",
            "[1] \"Panamá\"\n",
            "\n",
            "[[15]]\n",
            "[1] \"Paraguay\"\n",
            "\n",
            "[[16]]\n",
            "[1] \"Perú\"\n",
            "\n",
            "[[17]]\n",
            "[1] \"República Dominicana\"\n",
            "\n",
            "[[18]]\n",
            "[1] \"Uruguay\"\n",
            "\n"
          ]
        }
      ]
    },
    {
      "cell_type": "markdown",
      "source": [
        "Se eliminó Venezuela"
      ],
      "metadata": {
        "id": "R3M7iQnlMIXa"
      }
    },
    {
      "cell_type": "code",
      "source": [
        "#Para varias posiciones\n",
        "del countriesP[0:2]\n",
        "countriesP"
      ],
      "metadata": {
        "colab": {
          "base_uri": "https://localhost:8080/"
        },
        "id": "lOQAswwmMLQe",
        "outputId": "8f52aa2d-2d20-435c-b446-ae2ab22c0b0e"
      },
      "execution_count": null,
      "outputs": [
        {
          "output_type": "execute_result",
          "data": {
            "text/plain": [
              "['Brazil',\n",
              " 'Chile',\n",
              " 'Colombia',\n",
              " 'Costa Rica',\n",
              " 'Cuba',\n",
              " 'Ecuador',\n",
              " 'El Salvador',\n",
              " 'Guatemala',\n",
              " 'Honduras',\n",
              " 'Estados Unidos Mexicanos',\n",
              " 'Nicaragua',\n",
              " 'Panamá',\n",
              " 'Paraguay',\n",
              " 'Perú',\n",
              " 'Uruguay',\n",
              " 'Venezuela']"
            ]
          },
          "metadata": {},
          "execution_count": 158
        }
      ]
    },
    {
      "cell_type": "markdown",
      "source": [
        "Se eliminó Argentina y Bolivia."
      ],
      "metadata": {
        "id": "A_orv2jwMnAJ"
      }
    },
    {
      "cell_type": "code",
      "source": [
        "%%R\n",
        "countriesR[11:12]=NULL\n",
        "countriesR"
      ],
      "metadata": {
        "colab": {
          "base_uri": "https://localhost:8080/"
        },
        "id": "V8UXlWwGMrlO",
        "outputId": "5080b811-5834-49ca-a18a-f280110010d7"
      },
      "execution_count": null,
      "outputs": [
        {
          "output_type": "stream",
          "name": "stdout",
          "text": [
            "[[1]]\n",
            "[1] \"Argentina\"\n",
            "\n",
            "[[2]]\n",
            "[1] \"Bolivia\"\n",
            "\n",
            "[[3]]\n",
            "[1] \"Brazil\"\n",
            "\n",
            "[[4]]\n",
            "[1] \"Chile\"\n",
            "\n",
            "[[5]]\n",
            "[1] \"Colombia\"\n",
            "\n",
            "[[6]]\n",
            "[1] \"Costa Rica\"\n",
            "\n",
            "[[7]]\n",
            "[1] \"Cuba\"\n",
            "\n",
            "[[8]]\n",
            "[1] \"Ecuador\"\n",
            "\n",
            "[[9]]\n",
            "[1] \"El Salvador\"\n",
            "\n",
            "[[10]]\n",
            "[1] \"Guatemala\"\n",
            "\n",
            "[[11]]\n",
            "[1] \"Nicaragua\"\n",
            "\n",
            "[[12]]\n",
            "[1] \"Panamá\"\n",
            "\n",
            "[[13]]\n",
            "[1] \"Paraguay\"\n",
            "\n",
            "[[14]]\n",
            "[1] \"Perú\"\n",
            "\n",
            "[[15]]\n",
            "[1] \"República Dominicana\"\n",
            "\n",
            "[[16]]\n",
            "[1] \"Uruguay\"\n",
            "\n"
          ]
        }
      ]
    },
    {
      "cell_type": "markdown",
      "source": [
        "Se eliminó Honduras y Estados Unidos Mexicanos."
      ],
      "metadata": {
        "id": "i8jip-24M-Lb"
      }
    },
    {
      "cell_type": "code",
      "source": [
        "#De forma no consecutiva:\n",
        "byeIndex=[1, 3, 5]\n",
        "countriesP=[countriesP[i] for i in range(len(countriesP)) if not i in byeIndex]\n",
        "countriesP"
      ],
      "metadata": {
        "colab": {
          "base_uri": "https://localhost:8080/"
        },
        "id": "sKXVjjPKOARp",
        "outputId": "087df5f2-0a0e-48e7-a405-759c6b63ccdf"
      },
      "execution_count": null,
      "outputs": [
        {
          "output_type": "execute_result",
          "data": {
            "text/plain": [
              "['Brazil',\n",
              " 'Colombia',\n",
              " 'Cuba',\n",
              " 'El Salvador',\n",
              " 'Guatemala',\n",
              " 'Honduras',\n",
              " 'Estados Unidos Mexicanos',\n",
              " 'Nicaragua',\n",
              " 'Panamá',\n",
              " 'Paraguay',\n",
              " 'Perú',\n",
              " 'Uruguay',\n",
              " 'Venezuela']"
            ]
          },
          "metadata": {},
          "execution_count": 160
        }
      ]
    },
    {
      "cell_type": "markdown",
      "source": [
        "Se eliminó Chile, Colombia y Ecuador."
      ],
      "metadata": {
        "id": "ADUajKxcOakm"
      }
    },
    {
      "cell_type": "code",
      "source": [
        "%%R\n",
        "countriesR[c(2,4,6)]=NULL\n",
        "countriesR"
      ],
      "metadata": {
        "colab": {
          "base_uri": "https://localhost:8080/"
        },
        "id": "xr8GzHHJOeL6",
        "outputId": "b53f114f-8104-44cb-9ffe-8230f511d107"
      },
      "execution_count": null,
      "outputs": [
        {
          "output_type": "stream",
          "name": "stdout",
          "text": [
            "[[1]]\n",
            "[1] \"Argentina\"\n",
            "\n",
            "[[2]]\n",
            "[1] \"Brazil\"\n",
            "\n",
            "[[3]]\n",
            "[1] \"Colombia\"\n",
            "\n",
            "[[4]]\n",
            "[1] \"Cuba\"\n",
            "\n",
            "[[5]]\n",
            "[1] \"Ecuador\"\n",
            "\n",
            "[[6]]\n",
            "[1] \"El Salvador\"\n",
            "\n",
            "[[7]]\n",
            "[1] \"Guatemala\"\n",
            "\n",
            "[[8]]\n",
            "[1] \"Nicaragua\"\n",
            "\n",
            "[[9]]\n",
            "[1] \"Panamá\"\n",
            "\n",
            "[[10]]\n",
            "[1] \"Paraguay\"\n",
            "\n",
            "[[11]]\n",
            "[1] \"Perú\"\n",
            "\n",
            "[[12]]\n",
            "[1] \"República Dominicana\"\n",
            "\n",
            "[[13]]\n",
            "[1] \"Uruguay\"\n",
            "\n"
          ]
        }
      ]
    },
    {
      "cell_type": "markdown",
      "source": [
        "Se eliminó Bolivia, Chile y Costa Rica."
      ],
      "metadata": {
        "id": "kCR0UaLKOkaG"
      }
    },
    {
      "cell_type": "markdown",
      "source": [
        "Eliminación por Valor"
      ],
      "metadata": {
        "id": "96b1tKEeOqom"
      }
    },
    {
      "cell_type": "code",
      "source": [
        "countriesP.remove('Nicaragua')\n",
        "countriesP"
      ],
      "metadata": {
        "colab": {
          "base_uri": "https://localhost:8080/"
        },
        "id": "93KZtxUUOtDG",
        "outputId": "5a8f79f5-5dcb-45e0-b782-6fa2ebe1e2a3"
      },
      "execution_count": null,
      "outputs": [
        {
          "output_type": "execute_result",
          "data": {
            "text/plain": [
              "['Brazil',\n",
              " 'Colombia',\n",
              " 'Cuba',\n",
              " 'El Salvador',\n",
              " 'Guatemala',\n",
              " 'Honduras',\n",
              " 'Estados Unidos Mexicanos',\n",
              " 'Panamá',\n",
              " 'Paraguay',\n",
              " 'Perú',\n",
              " 'Uruguay',\n",
              " 'Venezuela']"
            ]
          },
          "metadata": {},
          "execution_count": 162
        }
      ]
    },
    {
      "cell_type": "markdown",
      "source": [
        "Se eliminó Nicaragua."
      ],
      "metadata": {
        "id": "hwcMEjvsQ7SV"
      }
    },
    {
      "cell_type": "code",
      "source": [
        "#Todos los valores\n",
        "pol_orientationP=[p for p in pol_orientationP if not p in ['Centroderecha']]\n",
        "pol_orientationP"
      ],
      "metadata": {
        "colab": {
          "base_uri": "https://localhost:8080/"
        },
        "id": "npMVZP_jPlc5",
        "outputId": "1eec1e1d-b129-45e6-a171-9452155eef20"
      },
      "execution_count": null,
      "outputs": [
        {
          "output_type": "execute_result",
          "data": {
            "text/plain": [
              "['Derecha',\n",
              " 'Izquierda',\n",
              " 'Izquierda',\n",
              " 'Centroizquierda',\n",
              " 'Izquierda',\n",
              " 'Izquierda',\n",
              " 'Centro',\n",
              " 'Izquierda',\n",
              " 'Centroizquierda',\n",
              " 'Izquierda',\n",
              " 'Izquierda',\n",
              " 'Centro',\n",
              " 'Centro',\n",
              " 'Centroizquierda',\n",
              " 'Izquierda']"
            ]
          },
          "metadata": {},
          "execution_count": 163
        }
      ]
    },
    {
      "cell_type": "markdown",
      "source": [
        "Se eliminó los valores de Centroderecha."
      ],
      "metadata": {
        "id": "GYsZnCZnQ4Li"
      }
    },
    {
      "cell_type": "code",
      "source": [
        "%%R\n",
        "pol_orientationR=pol_orientationR[!pol_orientationR %in% list('Centroizquierda')]\n",
        "pol_orientationR"
      ],
      "metadata": {
        "colab": {
          "base_uri": "https://localhost:8080/"
        },
        "id": "5UwcNh42QNwt",
        "outputId": "7714cd73-0601-4716-8b7a-80469e8b528b"
      },
      "execution_count": null,
      "outputs": [
        {
          "output_type": "stream",
          "name": "stdout",
          "text": [
            "[[1]]\n",
            "[1] \"Derecha\"\n",
            "\n",
            "[[2]]\n",
            "[1] \"Izquierda\"\n",
            "\n",
            "[[3]]\n",
            "[1] \"Izquierda\"\n",
            "\n",
            "[[4]]\n",
            "[1] \"Izquierda\"\n",
            "\n",
            "[[5]]\n",
            "[1] \"Centroderecha\"\n",
            "\n",
            "[[6]]\n",
            "[1] \"Izquierda\"\n",
            "\n",
            "[[7]]\n",
            "[1] \"Centroderecha\"\n",
            "\n",
            "[[8]]\n",
            "[1] \"Centro\"\n",
            "\n",
            "[[9]]\n",
            "[1] \"Izquierda\"\n",
            "\n",
            "[[10]]\n",
            "[1] \"Izquierda\"\n",
            "\n",
            "[[11]]\n",
            "[1] \"Izquierda\"\n",
            "\n",
            "[[12]]\n",
            "[1] \"Centro\"\n",
            "\n",
            "[[13]]\n",
            "[1] \"Centroderecha\"\n",
            "\n",
            "[[14]]\n",
            "[1] \"Centro\"\n",
            "\n",
            "[[15]]\n",
            "[1] \"Centroderecha\"\n",
            "\n",
            "[[16]]\n",
            "[1] \"Izquierda\"\n",
            "\n"
          ]
        }
      ]
    },
    {
      "cell_type": "markdown",
      "source": [
        "Se eliminó los valores de Centroizquierda."
      ],
      "metadata": {
        "id": "5Eelbo_DQ9J1"
      }
    },
    {
      "cell_type": "markdown",
      "source": [
        "Inserción"
      ],
      "metadata": {
        "id": "PbYspdqFRA3F"
      }
    },
    {
      "cell_type": "code",
      "source": [
        "countriesP.append(\"Estados Unidos\")\n",
        "countriesP"
      ],
      "metadata": {
        "colab": {
          "base_uri": "https://localhost:8080/"
        },
        "id": "8_2-Oa-pREA5",
        "outputId": "2dadab8b-d9a1-4e19-8fe8-46ac3a5faf63"
      },
      "execution_count": null,
      "outputs": [
        {
          "output_type": "execute_result",
          "data": {
            "text/plain": [
              "['Brazil',\n",
              " 'Colombia',\n",
              " 'Cuba',\n",
              " 'El Salvador',\n",
              " 'Guatemala',\n",
              " 'Honduras',\n",
              " 'Estados Unidos Mexicanos',\n",
              " 'Panamá',\n",
              " 'Paraguay',\n",
              " 'Perú',\n",
              " 'Uruguay',\n",
              " 'Venezuela',\n",
              " 'Estados Unidos']"
            ]
          },
          "metadata": {},
          "execution_count": 165
        }
      ]
    },
    {
      "cell_type": "markdown",
      "source": [
        "Se añadió Estados Unidos."
      ],
      "metadata": {
        "id": "tWBXq3AoROWt"
      }
    },
    {
      "cell_type": "code",
      "source": [
        "%%R\n",
        "countriesR=append(countriesR,'Canadá')\n",
        "countriesR"
      ],
      "metadata": {
        "colab": {
          "base_uri": "https://localhost:8080/"
        },
        "id": "Ds0zBMxjRPqd",
        "outputId": "1817521a-28ed-4b63-9e39-9ca2d8a308f4"
      },
      "execution_count": null,
      "outputs": [
        {
          "output_type": "stream",
          "name": "stdout",
          "text": [
            "[[1]]\n",
            "[1] \"Argentina\"\n",
            "\n",
            "[[2]]\n",
            "[1] \"Brazil\"\n",
            "\n",
            "[[3]]\n",
            "[1] \"Colombia\"\n",
            "\n",
            "[[4]]\n",
            "[1] \"Cuba\"\n",
            "\n",
            "[[5]]\n",
            "[1] \"Ecuador\"\n",
            "\n",
            "[[6]]\n",
            "[1] \"El Salvador\"\n",
            "\n",
            "[[7]]\n",
            "[1] \"Guatemala\"\n",
            "\n",
            "[[8]]\n",
            "[1] \"Nicaragua\"\n",
            "\n",
            "[[9]]\n",
            "[1] \"Panamá\"\n",
            "\n",
            "[[10]]\n",
            "[1] \"Paraguay\"\n",
            "\n",
            "[[11]]\n",
            "[1] \"Perú\"\n",
            "\n",
            "[[12]]\n",
            "[1] \"República Dominicana\"\n",
            "\n",
            "[[13]]\n",
            "[1] \"Uruguay\"\n",
            "\n",
            "[[14]]\n",
            "[1] \"Canadá\"\n",
            "\n"
          ]
        }
      ]
    },
    {
      "cell_type": "markdown",
      "source": [
        "Se añadió Canadá."
      ],
      "metadata": {
        "id": "jLxoxj5ERXyN"
      }
    },
    {
      "cell_type": "code",
      "source": [
        "#Posición específica\n",
        "countriesP.insert(4,\"España\")\n",
        "countriesP"
      ],
      "metadata": {
        "colab": {
          "base_uri": "https://localhost:8080/"
        },
        "id": "aaLL4I3tRkUE",
        "outputId": "89febab0-7d12-41f1-e919-e648c28daeb0"
      },
      "execution_count": null,
      "outputs": [
        {
          "output_type": "execute_result",
          "data": {
            "text/plain": [
              "['Brazil',\n",
              " 'Colombia',\n",
              " 'Cuba',\n",
              " 'El Salvador',\n",
              " 'España',\n",
              " 'Guatemala',\n",
              " 'Honduras',\n",
              " 'Estados Unidos Mexicanos',\n",
              " 'Panamá',\n",
              " 'Paraguay',\n",
              " 'Perú',\n",
              " 'Uruguay',\n",
              " 'Venezuela',\n",
              " 'Estados Unidos']"
            ]
          },
          "metadata": {},
          "execution_count": 167
        }
      ]
    },
    {
      "cell_type": "markdown",
      "source": [
        "Se añadió España en la quinta posición."
      ],
      "metadata": {
        "id": "Q4YmpYwsRxX0"
      }
    },
    {
      "cell_type": "code",
      "source": [
        "%%R\n",
        "countriesR=append(countriesR,'Portugal',after=12)\n",
        "countriesR"
      ],
      "metadata": {
        "colab": {
          "base_uri": "https://localhost:8080/"
        },
        "id": "b3Z3xEFLR1Zt",
        "outputId": "cd7570b6-498a-4bde-cfed-bfde0b6ae0cf"
      },
      "execution_count": null,
      "outputs": [
        {
          "output_type": "stream",
          "name": "stdout",
          "text": [
            "[[1]]\n",
            "[1] \"Argentina\"\n",
            "\n",
            "[[2]]\n",
            "[1] \"Brazil\"\n",
            "\n",
            "[[3]]\n",
            "[1] \"Colombia\"\n",
            "\n",
            "[[4]]\n",
            "[1] \"Cuba\"\n",
            "\n",
            "[[5]]\n",
            "[1] \"Ecuador\"\n",
            "\n",
            "[[6]]\n",
            "[1] \"El Salvador\"\n",
            "\n",
            "[[7]]\n",
            "[1] \"Guatemala\"\n",
            "\n",
            "[[8]]\n",
            "[1] \"Nicaragua\"\n",
            "\n",
            "[[9]]\n",
            "[1] \"Panamá\"\n",
            "\n",
            "[[10]]\n",
            "[1] \"Paraguay\"\n",
            "\n",
            "[[11]]\n",
            "[1] \"Perú\"\n",
            "\n",
            "[[12]]\n",
            "[1] \"República Dominicana\"\n",
            "\n",
            "[[13]]\n",
            "[1] \"Portugal\"\n",
            "\n",
            "[[14]]\n",
            "[1] \"Uruguay\"\n",
            "\n",
            "[[15]]\n",
            "[1] \"Canadá\"\n",
            "\n"
          ]
        }
      ]
    },
    {
      "cell_type": "markdown",
      "source": [
        "Se añadió a Portugal en la decimotercera posición."
      ],
      "metadata": {
        "id": "bl2A9IE8R-N8"
      }
    },
    {
      "cell_type": "markdown",
      "source": [
        "Concatenación"
      ],
      "metadata": {
        "id": "fbQQjJcrSWCb"
      }
    },
    {
      "cell_type": "code",
      "source": [
        "countriesP + pol_orientationP"
      ],
      "metadata": {
        "colab": {
          "base_uri": "https://localhost:8080/"
        },
        "id": "rbfTGizLSVxU",
        "outputId": "6647fe70-496d-4884-8d54-1be1f1664e63"
      },
      "execution_count": null,
      "outputs": [
        {
          "output_type": "execute_result",
          "data": {
            "text/plain": [
              "['Brazil',\n",
              " 'Colombia',\n",
              " 'Cuba',\n",
              " 'El Salvador',\n",
              " 'España',\n",
              " 'Guatemala',\n",
              " 'Honduras',\n",
              " 'Estados Unidos Mexicanos',\n",
              " 'Panamá',\n",
              " 'Paraguay',\n",
              " 'Perú',\n",
              " 'Uruguay',\n",
              " 'Venezuela',\n",
              " 'Estados Unidos',\n",
              " 'Derecha',\n",
              " 'Izquierda',\n",
              " 'Izquierda',\n",
              " 'Centroizquierda',\n",
              " 'Izquierda',\n",
              " 'Izquierda',\n",
              " 'Centro',\n",
              " 'Izquierda',\n",
              " 'Centroizquierda',\n",
              " 'Izquierda',\n",
              " 'Izquierda',\n",
              " 'Centro',\n",
              " 'Centro',\n",
              " 'Centroizquierda',\n",
              " 'Izquierda']"
            ]
          },
          "metadata": {},
          "execution_count": 169
        }
      ]
    },
    {
      "cell_type": "code",
      "source": [
        "countriesP.extend(pol_orientationP)\n",
        "countriesP"
      ],
      "metadata": {
        "colab": {
          "base_uri": "https://localhost:8080/"
        },
        "id": "X-Jy00s1UGcQ",
        "outputId": "ed31bbdd-84a2-4196-8fb9-87715b99cd7a"
      },
      "execution_count": null,
      "outputs": [
        {
          "output_type": "execute_result",
          "data": {
            "text/plain": [
              "['Brazil',\n",
              " 'Colombia',\n",
              " 'Cuba',\n",
              " 'El Salvador',\n",
              " 'España',\n",
              " 'Guatemala',\n",
              " 'Honduras',\n",
              " 'Estados Unidos Mexicanos',\n",
              " 'Panamá',\n",
              " 'Paraguay',\n",
              " 'Perú',\n",
              " 'Uruguay',\n",
              " 'Venezuela',\n",
              " 'Estados Unidos',\n",
              " 'Derecha',\n",
              " 'Izquierda',\n",
              " 'Izquierda',\n",
              " 'Centroizquierda',\n",
              " 'Izquierda',\n",
              " 'Izquierda',\n",
              " 'Centro',\n",
              " 'Izquierda',\n",
              " 'Centroizquierda',\n",
              " 'Izquierda',\n",
              " 'Izquierda',\n",
              " 'Centro',\n",
              " 'Centro',\n",
              " 'Centroizquierda',\n",
              " 'Izquierda']"
            ]
          },
          "metadata": {},
          "execution_count": 170
        }
      ]
    },
    {
      "cell_type": "code",
      "source": [
        "%%R\n",
        "append(countriesR, pol_orientationR)"
      ],
      "metadata": {
        "colab": {
          "base_uri": "https://localhost:8080/"
        },
        "id": "Fk5pqxa-Uaes",
        "outputId": "6ec98ce0-00e7-4491-93a9-0c90d384c3de"
      },
      "execution_count": null,
      "outputs": [
        {
          "output_type": "stream",
          "name": "stdout",
          "text": [
            "[[1]]\n",
            "[1] \"Argentina\"\n",
            "\n",
            "[[2]]\n",
            "[1] \"Brazil\"\n",
            "\n",
            "[[3]]\n",
            "[1] \"Colombia\"\n",
            "\n",
            "[[4]]\n",
            "[1] \"Cuba\"\n",
            "\n",
            "[[5]]\n",
            "[1] \"Ecuador\"\n",
            "\n",
            "[[6]]\n",
            "[1] \"El Salvador\"\n",
            "\n",
            "[[7]]\n",
            "[1] \"Guatemala\"\n",
            "\n",
            "[[8]]\n",
            "[1] \"Nicaragua\"\n",
            "\n",
            "[[9]]\n",
            "[1] \"Panamá\"\n",
            "\n",
            "[[10]]\n",
            "[1] \"Paraguay\"\n",
            "\n",
            "[[11]]\n",
            "[1] \"Perú\"\n",
            "\n",
            "[[12]]\n",
            "[1] \"República Dominicana\"\n",
            "\n",
            "[[13]]\n",
            "[1] \"Portugal\"\n",
            "\n",
            "[[14]]\n",
            "[1] \"Uruguay\"\n",
            "\n",
            "[[15]]\n",
            "[1] \"Canadá\"\n",
            "\n",
            "[[16]]\n",
            "[1] \"Derecha\"\n",
            "\n",
            "[[17]]\n",
            "[1] \"Izquierda\"\n",
            "\n",
            "[[18]]\n",
            "[1] \"Izquierda\"\n",
            "\n",
            "[[19]]\n",
            "[1] \"Izquierda\"\n",
            "\n",
            "[[20]]\n",
            "[1] \"Centroderecha\"\n",
            "\n",
            "[[21]]\n",
            "[1] \"Izquierda\"\n",
            "\n",
            "[[22]]\n",
            "[1] \"Centroderecha\"\n",
            "\n",
            "[[23]]\n",
            "[1] \"Centro\"\n",
            "\n",
            "[[24]]\n",
            "[1] \"Izquierda\"\n",
            "\n",
            "[[25]]\n",
            "[1] \"Izquierda\"\n",
            "\n",
            "[[26]]\n",
            "[1] \"Izquierda\"\n",
            "\n",
            "[[27]]\n",
            "[1] \"Centro\"\n",
            "\n",
            "[[28]]\n",
            "[1] \"Centroderecha\"\n",
            "\n",
            "[[29]]\n",
            "[1] \"Centro\"\n",
            "\n",
            "[[30]]\n",
            "[1] \"Centroderecha\"\n",
            "\n",
            "[[31]]\n",
            "[1] \"Izquierda\"\n",
            "\n"
          ]
        }
      ]
    }
  ]
}