{
  "nbformat": 4,
  "nbformat_minor": 0,
  "metadata": {
    "colab": {
      "provenance": [],
      "authorship_tag": "ABX9TyNJwNLNZgdL716dnql3TwSG",
      "include_colab_link": true
    },
    "kernelspec": {
      "name": "python3",
      "display_name": "Python 3"
    },
    "language_info": {
      "name": "python"
    }
  },
  "cells": [
    {
      "cell_type": "markdown",
      "metadata": {
        "id": "view-in-github",
        "colab_type": "text"
      },
      "source": [
        "<a href=\"https://colab.research.google.com/github/LuisPalominoR/Entregable-1-Primera-Parte/blob/main/Entregable_1_b_PROTO.ipynb\" target=\"_parent\"><img src=\"https://colab.research.google.com/assets/colab-badge.svg\" alt=\"Open In Colab\"/></a>"
      ]
    },
    {
      "cell_type": "code",
      "source": [
        "%load_ext rpy2.ipython"
      ],
      "metadata": {
        "colab": {
          "base_uri": "https://localhost:8080/"
        },
        "id": "GYqiwNI4pLcA",
        "outputId": "91738f33-e3e9-4eac-eba9-62259d376d0e"
      },
      "execution_count": 152,
      "outputs": [
        {
          "output_type": "stream",
          "name": "stdout",
          "text": [
            "The rpy2.ipython extension is already loaded. To reload it, use:\n",
            "  %reload_ext rpy2.ipython\n"
          ]
        }
      ]
    },
    {
      "cell_type": "markdown",
      "source": [
        "**Vectores**"
      ],
      "metadata": {
        "id": "rNT-BbWip9y9"
      }
    },
    {
      "cell_type": "markdown",
      "source": [
        "Creación de data"
      ],
      "metadata": {
        "id": "tclccYVop_Gt"
      }
    },
    {
      "cell_type": "code",
      "execution_count": 153,
      "metadata": {
        "id": "idxP7uQPpAy7"
      },
      "outputs": [],
      "source": [
        "import numpy as np\n",
        "\n",
        "SurnamesP=np.array([\"Milei\", \"Arce\", \"da Silva\", \"Boric\", \"Petro\", \"Chaves\", \"Díaz-Canel\",\n",
        "           \"Noboa\", \"Bukele\", \"Arévalo\", \"Castro\", \"López Obrador\",\n",
        "           \"Ortega\", \"Cortizo\", \"Peña\", \"Boluarte\", \"Abinader\", \"Lacalle Pou\", \"Maduro\"])\n",
        "agesP=np.array([53,60,78,37,63,62,63,36,42,65,64,70,78,70,45,61,56,50,61])\n",
        "countriesP=np.array([\"Argentina\", \"Bolivia\", \"Brasil\", \"Chile\", \"Colombia\", \"Costa Rica\", \"Cuba\",\n",
        "            \"Ecuador\", \"El Salvador\", \"Guatemala\", \"Honduras\", \"México\", \"Nicaragua\", \"Panamá\",\n",
        "            \"Paraguay\", \"Perú\", \"República Dominicana\", \"Uruguay\", \"Venezuela\"])\n",
        "pol_orientationP=np.array([\"Derecha\", \"Izquierda\", \"Izquierda\", \"Centroizquierda\", \"Izquierda\", \"Centroderecha\",\n",
        "                  \"Izquierda\", \"Centroderecha\", \"Centro\", \"Izquierda\", \"Centroizquierda\", \"Izquierda\",\n",
        "                  \"Izquierda\", \"Centro\", \"Centroderecha\", \"Centro\", \"Centroizquierda\", \"Centroderecha\",\n",
        "                  \"Izquierda\"])"
      ]
    },
    {
      "cell_type": "code",
      "source": [
        "SurnamesP"
      ],
      "metadata": {
        "colab": {
          "base_uri": "https://localhost:8080/"
        },
        "id": "IR3oqc2spfit",
        "outputId": "7ca17715-2e82-4529-97f4-06806ed191be"
      },
      "execution_count": 154,
      "outputs": [
        {
          "output_type": "execute_result",
          "data": {
            "text/plain": [
              "array(['Milei', 'Arce', 'da Silva', 'Boric', 'Petro', 'Chaves',\n",
              "       'Díaz-Canel', 'Noboa', 'Bukele', 'Arévalo', 'Castro',\n",
              "       'López Obrador', 'Ortega', 'Cortizo', 'Peña', 'Boluarte',\n",
              "       'Abinader', 'Lacalle Pou', 'Maduro'], dtype='<U13')"
            ]
          },
          "metadata": {},
          "execution_count": 154
        }
      ]
    },
    {
      "cell_type": "code",
      "source": [
        "%%R\n",
        "SurnamesR=c(\"Milei\", \"Arce\", \"da Silva\", \"Boric\", \"Petro\", \"Chaves\", \"Díaz-Canel\",\n",
        "           \"Noboa\", \"Bukele\", \"Arévalo\", \"Castro\", \"López Obrador\",\n",
        "           \"Ortega\", \"Cortizo\", \"Peña\", \"Boluarte\", \"Abinader\", \"Lacalle Pou\", \"Maduro\")\n",
        "agesR=c(53,60,78,37,63,62,63,36,42,65,64,70,78,70,45,61,56,50,61)\n",
        "countriesR=c(\"Argentina\", \"Bolivia\", \"Brasil\", \"Chile\", \"Colombia\", \"Costa Rica\", \"Cuba\",\n",
        "            \"Ecuador\", \"El Salvador\", \"Guatemala\", \"Honduras\", \"México\", \"Nicaragua\", \"Panamá\",\n",
        "            \"Paraguay\", \"Perú\", \"República Dominicana\", \"Uruguay\", \"Venezuela\")\n",
        "pol_orientationR=c(\"Derecha\", \"Izquierda\", \"Izquierda\", \"Centroizquierda\", \"Izquierda\", \"Centroderecha\",\n",
        "                  \"Izquierda\", \"Centroderecha\", \"Centro\", \"Izquierda\", \"Centroizquierda\", \"Izquierda\",\n",
        "                  \"Izquierda\", \"Centro\", \"Centroderecha\", \"Centro\", \"Centroizquierda\", \"Centroderecha\",\n",
        "                  \"Izquierda\")"
      ],
      "metadata": {
        "id": "SXj0vAExpoFV"
      },
      "execution_count": 155,
      "outputs": []
    },
    {
      "cell_type": "code",
      "source": [
        "%%R\n",
        "SurnamesR"
      ],
      "metadata": {
        "colab": {
          "base_uri": "https://localhost:8080/"
        },
        "id": "0alf0XVXpzeN",
        "outputId": "bc71a961-128f-4fff-f955-f49ce4f438fb"
      },
      "execution_count": 156,
      "outputs": [
        {
          "output_type": "stream",
          "name": "stdout",
          "text": [
            " [1] \"Milei\"         \"Arce\"          \"da Silva\"      \"Boric\"        \n",
            " [5] \"Petro\"         \"Chaves\"        \"Díaz-Canel\"    \"Noboa\"        \n",
            " [9] \"Bukele\"        \"Arévalo\"       \"Castro\"        \"López Obrador\"\n",
            "[13] \"Ortega\"        \"Cortizo\"       \"Peña\"          \"Boluarte\"     \n",
            "[17] \"Abinader\"      \"Lacalle Pou\"   \"Maduro\"       \n"
          ]
        }
      ]
    },
    {
      "cell_type": "markdown",
      "source": [
        "Acceso a la data"
      ],
      "metadata": {
        "id": "-m0fdWKAqCW1"
      }
    },
    {
      "cell_type": "code",
      "source": [
        "agesP[0]"
      ],
      "metadata": {
        "colab": {
          "base_uri": "https://localhost:8080/"
        },
        "id": "3MXU1WSyqDh0",
        "outputId": "438f8129-a5f4-4091-f248-1eced0f41039"
      },
      "execution_count": 157,
      "outputs": [
        {
          "output_type": "execute_result",
          "data": {
            "text/plain": [
              "53"
            ]
          },
          "metadata": {},
          "execution_count": 157
        }
      ]
    },
    {
      "cell_type": "markdown",
      "source": [
        "La primera edad obtenida es 53."
      ],
      "metadata": {
        "id": "_vScxINDqGgl"
      }
    },
    {
      "cell_type": "code",
      "source": [
        "%%R\n",
        "agesR[2]"
      ],
      "metadata": {
        "colab": {
          "base_uri": "https://localhost:8080/"
        },
        "id": "gySLzmINqJYU",
        "outputId": "4f918fd3-fb6e-413b-cbb3-17cb7ef87c68"
      },
      "execution_count": 158,
      "outputs": [
        {
          "output_type": "stream",
          "name": "stdout",
          "text": [
            "[1] 60\n"
          ]
        }
      ]
    },
    {
      "cell_type": "markdown",
      "source": [
        "La segunda edad obtenida es 60."
      ],
      "metadata": {
        "id": "TDyVA4-0qNKV"
      }
    },
    {
      "cell_type": "code",
      "source": [
        "#Último elemento\n",
        "countriesP[-2]"
      ],
      "metadata": {
        "colab": {
          "base_uri": "https://localhost:8080/",
          "height": 36
        },
        "id": "UEWH3cU2qQkl",
        "outputId": "a33d7d6a-3bcb-4a9a-bb59-1e4110b38c8d"
      },
      "execution_count": 159,
      "outputs": [
        {
          "output_type": "execute_result",
          "data": {
            "text/plain": [
              "'Uruguay'"
            ],
            "application/vnd.google.colaboratory.intrinsic+json": {
              "type": "string"
            }
          },
          "metadata": {},
          "execution_count": 159
        }
      ]
    },
    {
      "cell_type": "markdown",
      "source": [
        "El penúltimo país es Uruguay."
      ],
      "metadata": {
        "id": "J5yGgaIjqWCd"
      }
    },
    {
      "cell_type": "code",
      "source": [
        "%%R\n",
        "tail(countriesR,1)"
      ],
      "metadata": {
        "colab": {
          "base_uri": "https://localhost:8080/"
        },
        "id": "IJTbAzmbqXml",
        "outputId": "e42b65a2-96a3-4921-cd0b-d0f567e4e784"
      },
      "execution_count": 160,
      "outputs": [
        {
          "output_type": "stream",
          "name": "stdout",
          "text": [
            "[1] \"Venezuela\"\n"
          ]
        }
      ]
    },
    {
      "cell_type": "markdown",
      "source": [
        "El último país es Venezuela."
      ],
      "metadata": {
        "id": "4DPvUSVHqfMX"
      }
    },
    {
      "cell_type": "markdown",
      "source": [
        "Cortes"
      ],
      "metadata": {
        "id": "hOV7-naHqizc"
      }
    },
    {
      "cell_type": "code",
      "source": [
        "agesP[1:4]"
      ],
      "metadata": {
        "colab": {
          "base_uri": "https://localhost:8080/"
        },
        "id": "IvwxvMz-qjgE",
        "outputId": "54558e99-c32e-4113-9d6c-c5aa7114fc7e"
      },
      "execution_count": 161,
      "outputs": [
        {
          "output_type": "execute_result",
          "data": {
            "text/plain": [
              "array([60, 78, 37])"
            ]
          },
          "metadata": {},
          "execution_count": 161
        }
      ]
    },
    {
      "cell_type": "markdown",
      "source": [
        "Se obtiene de la segunda a la cuarta edad."
      ],
      "metadata": {
        "id": "xYVmbC80u_-z"
      }
    },
    {
      "cell_type": "code",
      "source": [
        "%%R\n",
        "agesR[3:5]"
      ],
      "metadata": {
        "colab": {
          "base_uri": "https://localhost:8080/"
        },
        "id": "7xeNNh3evDlD",
        "outputId": "e4e89960-4572-4a2b-ae65-2b9973ef09a7"
      },
      "execution_count": 162,
      "outputs": [
        {
          "output_type": "stream",
          "name": "stdout",
          "text": [
            "[1] 78 37 63\n"
          ]
        }
      ]
    },
    {
      "cell_type": "markdown",
      "source": [
        "Se obtiene de la tercera a la quinta edad."
      ],
      "metadata": {
        "id": "AZXrGzyjvIkU"
      }
    },
    {
      "cell_type": "code",
      "source": [
        "#De forma no consecutiva\n",
        "agesP[[0,2,3]]"
      ],
      "metadata": {
        "colab": {
          "base_uri": "https://localhost:8080/"
        },
        "id": "DTALrquvvLIs",
        "outputId": "05c73637-6a6c-4592-d300-0745ec081d51"
      },
      "execution_count": 163,
      "outputs": [
        {
          "output_type": "execute_result",
          "data": {
            "text/plain": [
              "array([53, 78, 37])"
            ]
          },
          "metadata": {},
          "execution_count": 163
        }
      ]
    },
    {
      "cell_type": "markdown",
      "source": [
        "Se obtiene la primera, la tercera y la cuarta edad."
      ],
      "metadata": {
        "id": "DSJBdtfkvVDO"
      }
    },
    {
      "cell_type": "code",
      "source": [
        "%%R\n",
        "agesR[c(5,7,9)]"
      ],
      "metadata": {
        "colab": {
          "base_uri": "https://localhost:8080/"
        },
        "id": "rBWl2ePYvVfk",
        "outputId": "c76144f2-812e-461a-8930-7b68dedfa101"
      },
      "execution_count": 164,
      "outputs": [
        {
          "output_type": "stream",
          "name": "stdout",
          "text": [
            "[1] 63 63 42\n"
          ]
        }
      ]
    },
    {
      "cell_type": "markdown",
      "source": [
        "Se obtiene la quinta, la séptima y la novena edad."
      ],
      "metadata": {
        "id": "c2jM-OGLvZcz"
      }
    },
    {
      "cell_type": "markdown",
      "source": [
        "Reemplazo por Posición"
      ],
      "metadata": {
        "id": "9rn6msCevwK4"
      }
    },
    {
      "cell_type": "code",
      "source": [
        "countriesP[1]=\"EP Bolivia\"\n",
        "countriesP"
      ],
      "metadata": {
        "colab": {
          "base_uri": "https://localhost:8080/"
        },
        "id": "nHcx1yquvyxW",
        "outputId": "cc1e6fb3-f904-476f-e308-8fa020f0cf73"
      },
      "execution_count": 165,
      "outputs": [
        {
          "output_type": "execute_result",
          "data": {
            "text/plain": [
              "array(['Argentina', 'EP Bolivia', 'Brasil', 'Chile', 'Colombia',\n",
              "       'Costa Rica', 'Cuba', 'Ecuador', 'El Salvador', 'Guatemala',\n",
              "       'Honduras', 'México', 'Nicaragua', 'Panamá', 'Paraguay', 'Perú',\n",
              "       'República Dominicana', 'Uruguay', 'Venezuela'], dtype='<U20')"
            ]
          },
          "metadata": {},
          "execution_count": 165
        }
      ]
    },
    {
      "cell_type": "markdown",
      "source": [
        "Se reemplazó Bolivia por EP Bolivia (Estado Plurinacional de Bolivia)."
      ],
      "metadata": {
        "id": "UfSTToYGv9v8"
      }
    },
    {
      "cell_type": "code",
      "source": [
        "%%R\n",
        "countriesR[19]=\"RP Venezuela\"\n",
        "countriesR"
      ],
      "metadata": {
        "colab": {
          "base_uri": "https://localhost:8080/"
        },
        "id": "-QZmK4jIwCbs",
        "outputId": "f402f037-679d-4318-e3ab-ff663d7cbfa4"
      },
      "execution_count": 166,
      "outputs": [
        {
          "output_type": "stream",
          "name": "stdout",
          "text": [
            " [1] \"Argentina\"            \"Bolivia\"              \"Brasil\"              \n",
            " [4] \"Chile\"                \"Colombia\"             \"Costa Rica\"          \n",
            " [7] \"Cuba\"                 \"Ecuador\"              \"El Salvador\"         \n",
            "[10] \"Guatemala\"            \"Honduras\"             \"México\"              \n",
            "[13] \"Nicaragua\"            \"Panamá\"               \"Paraguay\"            \n",
            "[16] \"Perú\"                 \"República Dominicana\" \"Uruguay\"             \n",
            "[19] \"RP Venezuela\"        \n"
          ]
        }
      ]
    },
    {
      "cell_type": "markdown",
      "source": [
        "Se reemplazó Venezuela por RP Venezuela (República Bolivariana de Venezuela)."
      ],
      "metadata": {
        "id": "6eZtILXSxI57"
      }
    },
    {
      "cell_type": "markdown",
      "source": [
        "Reemplazo por Valor"
      ],
      "metadata": {
        "id": "RAaBt8K-xvHr"
      }
    },
    {
      "cell_type": "code",
      "source": [
        "countriesP=np.char.replace(countriesP, 'Brasil', 'Brazil')\n",
        "countriesP"
      ],
      "metadata": {
        "colab": {
          "base_uri": "https://localhost:8080/"
        },
        "id": "QM8o98TkxwlD",
        "outputId": "8ee873e9-4c1a-4543-ec24-4dba99e76da8"
      },
      "execution_count": 167,
      "outputs": [
        {
          "output_type": "execute_result",
          "data": {
            "text/plain": [
              "array(['Argentina', 'EP Bolivia', 'Brazil', 'Chile', 'Colombia',\n",
              "       'Costa Rica', 'Cuba', 'Ecuador', 'El Salvador', 'Guatemala',\n",
              "       'Honduras', 'México', 'Nicaragua', 'Panamá', 'Paraguay', 'Perú',\n",
              "       'República Dominicana', 'Uruguay', 'Venezuela'], dtype='<U20')"
            ]
          },
          "metadata": {},
          "execution_count": 167
        }
      ]
    },
    {
      "cell_type": "markdown",
      "source": [
        "Se reemplazó Brasil por Brazil."
      ],
      "metadata": {
        "id": "3zWPA2zix4UT"
      }
    },
    {
      "cell_type": "code",
      "source": [
        "%%R\n",
        "countriesR[countriesR=='México']=\"Estados Unidos Mexicanos\"\n",
        "countriesR"
      ],
      "metadata": {
        "colab": {
          "base_uri": "https://localhost:8080/"
        },
        "id": "Fy9iKqqTyDR0",
        "outputId": "0067f71e-e6ab-413d-f4fb-bb91042f794c"
      },
      "execution_count": 168,
      "outputs": [
        {
          "output_type": "stream",
          "name": "stdout",
          "text": [
            " [1] \"Argentina\"                \"Bolivia\"                 \n",
            " [3] \"Brasil\"                   \"Chile\"                   \n",
            " [5] \"Colombia\"                 \"Costa Rica\"              \n",
            " [7] \"Cuba\"                     \"Ecuador\"                 \n",
            " [9] \"El Salvador\"              \"Guatemala\"               \n",
            "[11] \"Honduras\"                 \"Estados Unidos Mexicanos\"\n",
            "[13] \"Nicaragua\"                \"Panamá\"                  \n",
            "[15] \"Paraguay\"                 \"Perú\"                    \n",
            "[17] \"República Dominicana\"     \"Uruguay\"                 \n",
            "[19] \"RP Venezuela\"            \n"
          ]
        }
      ]
    },
    {
      "cell_type": "markdown",
      "source": [
        "Se reemplazó México por Estados Unidos Mexicanos."
      ],
      "metadata": {
        "id": "gzZKmdvYyMD7"
      }
    },
    {
      "cell_type": "markdown",
      "source": [
        "Eliminación por Posición"
      ],
      "metadata": {
        "id": "zP8ulARayRMS"
      }
    },
    {
      "cell_type": "code",
      "source": [
        "countriesP=np.delete(countriesP,-3)\n",
        "countriesP"
      ],
      "metadata": {
        "colab": {
          "base_uri": "https://localhost:8080/"
        },
        "id": "bRSfdCB-ySfB",
        "outputId": "34eb89a0-3b57-42c0-b0f5-e2f33ccbb444"
      },
      "execution_count": 169,
      "outputs": [
        {
          "output_type": "execute_result",
          "data": {
            "text/plain": [
              "array(['Argentina', 'EP Bolivia', 'Brazil', 'Chile', 'Colombia',\n",
              "       'Costa Rica', 'Cuba', 'Ecuador', 'El Salvador', 'Guatemala',\n",
              "       'Honduras', 'México', 'Nicaragua', 'Panamá', 'Paraguay', 'Perú',\n",
              "       'Uruguay', 'Venezuela'], dtype='<U20')"
            ]
          },
          "metadata": {},
          "execution_count": 169
        }
      ]
    },
    {
      "cell_type": "markdown",
      "source": [
        "Se eliminó el antepenúltimo país, República Dominicana."
      ],
      "metadata": {
        "id": "PNkRpJ3Qy0uq"
      }
    },
    {
      "cell_type": "code",
      "source": [
        "%%R\n",
        "countriesR=countriesR[-length(countriesR)]\n",
        "countriesR"
      ],
      "metadata": {
        "colab": {
          "base_uri": "https://localhost:8080/"
        },
        "id": "4M44dl-Ny49j",
        "outputId": "36d54632-f9fe-43a0-f0cf-4818b59c53b6"
      },
      "execution_count": 170,
      "outputs": [
        {
          "output_type": "stream",
          "name": "stdout",
          "text": [
            " [1] \"Argentina\"                \"Bolivia\"                 \n",
            " [3] \"Brasil\"                   \"Chile\"                   \n",
            " [5] \"Colombia\"                 \"Costa Rica\"              \n",
            " [7] \"Cuba\"                     \"Ecuador\"                 \n",
            " [9] \"El Salvador\"              \"Guatemala\"               \n",
            "[11] \"Honduras\"                 \"Estados Unidos Mexicanos\"\n",
            "[13] \"Nicaragua\"                \"Panamá\"                  \n",
            "[15] \"Paraguay\"                 \"Perú\"                    \n",
            "[17] \"República Dominicana\"     \"Uruguay\"                 \n"
          ]
        }
      ]
    },
    {
      "cell_type": "markdown",
      "source": [
        "Se eliminó el último país, Venezuela."
      ],
      "metadata": {
        "id": "G8qzf2dIy96i"
      }
    },
    {
      "cell_type": "code",
      "source": [
        "#Para varias posiciones\n",
        "pol_orientationP=np.delete(pol_orientationP,range(1,4))\n",
        "pol_orientationP"
      ],
      "metadata": {
        "colab": {
          "base_uri": "https://localhost:8080/"
        },
        "id": "lX6RtGYJzLAe",
        "outputId": "6ba09449-e821-4c50-e5fd-ccfdec98f353"
      },
      "execution_count": 171,
      "outputs": [
        {
          "output_type": "execute_result",
          "data": {
            "text/plain": [
              "array(['Derecha', 'Izquierda', 'Centroderecha', 'Izquierda',\n",
              "       'Centroderecha', 'Centro', 'Izquierda', 'Centroizquierda',\n",
              "       'Izquierda', 'Izquierda', 'Centro', 'Centroderecha', 'Centro',\n",
              "       'Centroizquierda', 'Centroderecha', 'Izquierda'], dtype='<U15')"
            ]
          },
          "metadata": {},
          "execution_count": 171
        }
      ]
    },
    {
      "cell_type": "markdown",
      "source": [
        "Se eliminaron el segundo, tercer y cuarto valor del vector de Orientación Política."
      ],
      "metadata": {
        "id": "HLH9TJXvznZk"
      }
    },
    {
      "cell_type": "code",
      "source": [
        "%%R\n",
        "pol_orientationR=pol_orientationR[-c(3:5)]\n",
        "pol_orientationR"
      ],
      "metadata": {
        "colab": {
          "base_uri": "https://localhost:8080/"
        },
        "id": "tU7GbCxXz8ci",
        "outputId": "8c1241fa-8823-46c1-dcbc-c82239968348"
      },
      "execution_count": 172,
      "outputs": [
        {
          "output_type": "stream",
          "name": "stdout",
          "text": [
            " [1] \"Derecha\"         \"Izquierda\"       \"Centroderecha\"   \"Izquierda\"      \n",
            " [5] \"Centroderecha\"   \"Centro\"          \"Izquierda\"       \"Centroizquierda\"\n",
            " [9] \"Izquierda\"       \"Izquierda\"       \"Centro\"          \"Centroderecha\"  \n",
            "[13] \"Centro\"          \"Centroizquierda\" \"Centroderecha\"   \"Izquierda\"      \n"
          ]
        }
      ]
    },
    {
      "cell_type": "markdown",
      "source": [
        "Se eliminaron el tercer, cuarto y quinto valor del vector de Orientación Política."
      ],
      "metadata": {
        "id": "ZfIRMPBd0PNc"
      }
    },
    {
      "cell_type": "code",
      "source": [
        "# De forma no consecutiva\n",
        "byeIndex=[1, 3, 5]\n",
        "agesP_new=np.delete(agesP,byeIndex)\n",
        "agesP_new"
      ],
      "metadata": {
        "colab": {
          "base_uri": "https://localhost:8080/"
        },
        "id": "pmURQfBf0V4N",
        "outputId": "0bd2cfa5-df63-4a48-8c2a-7e4f02ca1f43"
      },
      "execution_count": 173,
      "outputs": [
        {
          "output_type": "execute_result",
          "data": {
            "text/plain": [
              "array([53, 78, 63, 63, 36, 42, 65, 64, 70, 78, 70, 45, 61, 56, 50, 61])"
            ]
          },
          "metadata": {},
          "execution_count": 173
        }
      ]
    },
    {
      "cell_type": "markdown",
      "source": [
        "Se eliminaron la segunda, cuarta y sexta edad."
      ],
      "metadata": {
        "id": "rov8F58R0uf9"
      }
    },
    {
      "cell_type": "code",
      "source": [
        "%%R\n",
        "agesR_new=agesR[-c(3,5,7)]\n",
        "agesR_new"
      ],
      "metadata": {
        "colab": {
          "base_uri": "https://localhost:8080/"
        },
        "id": "vyihrkIN0xtT",
        "outputId": "aae4764e-cfee-4b21-cc35-4c90923e8eb5"
      },
      "execution_count": 174,
      "outputs": [
        {
          "output_type": "stream",
          "name": "stdout",
          "text": [
            " [1] 53 60 37 62 36 42 65 64 70 78 70 45 61 56 50 61\n"
          ]
        }
      ]
    },
    {
      "cell_type": "markdown",
      "source": [
        "Se eliminaron la tercera, quinta y séptima edad."
      ],
      "metadata": {
        "id": "GF0E2KPS1At7"
      }
    },
    {
      "cell_type": "markdown",
      "source": [
        "Eliminación por Valor"
      ],
      "metadata": {
        "id": "Hp1-hyaD1TgS"
      }
    },
    {
      "cell_type": "code",
      "source": [
        "agesP_new2=np.delete(agesP_new, np.where(agesP_new == 56))\n",
        "agesP_new2"
      ],
      "metadata": {
        "colab": {
          "base_uri": "https://localhost:8080/"
        },
        "id": "GTJtRbPD2_Bb",
        "outputId": "6c261815-1893-42a1-e7a5-be32fe2cd9cd"
      },
      "execution_count": 175,
      "outputs": [
        {
          "output_type": "execute_result",
          "data": {
            "text/plain": [
              "array([53, 78, 63, 63, 36, 42, 65, 64, 70, 78, 70, 45, 61, 50, 61])"
            ]
          },
          "metadata": {},
          "execution_count": 175
        }
      ]
    },
    {
      "cell_type": "markdown",
      "source": [
        "Se eliminó la edad 56 del vector."
      ],
      "metadata": {
        "id": "EJ4582T23IE6"
      }
    },
    {
      "cell_type": "code",
      "source": [
        "%%R\n",
        "agesR_new2=agesR_new[agesR_new!=45]\n",
        "agesR_new2"
      ],
      "metadata": {
        "colab": {
          "base_uri": "https://localhost:8080/"
        },
        "id": "-60yzckB3K4o",
        "outputId": "5bccb2bd-7596-43ac-c453-4e79d3c0ec9b"
      },
      "execution_count": 176,
      "outputs": [
        {
          "output_type": "stream",
          "name": "stdout",
          "text": [
            " [1] 53 60 37 62 36 42 65 64 70 78 70 61 56 50 61\n"
          ]
        }
      ]
    },
    {
      "cell_type": "markdown",
      "source": [
        "Se eliminó la edad 45 del vector."
      ],
      "metadata": {
        "id": "TJhr3sof3UHz"
      }
    },
    {
      "cell_type": "code",
      "source": [
        "agesP_new3=np.delete(agesP_new2, np.isin(agesP_new2,[50,70]))\n",
        "agesP_new3"
      ],
      "metadata": {
        "colab": {
          "base_uri": "https://localhost:8080/"
        },
        "id": "mpi5wowC3dah",
        "outputId": "194f45f2-73a4-4cc1-a5b8-7c332116d11a"
      },
      "execution_count": 177,
      "outputs": [
        {
          "output_type": "execute_result",
          "data": {
            "text/plain": [
              "array([53, 78, 63, 63, 36, 42, 65, 64, 78, 45, 61, 61])"
            ]
          },
          "metadata": {},
          "execution_count": 177
        }
      ]
    },
    {
      "cell_type": "markdown",
      "source": [
        "Se eliminaron las edades 50 y 70 del vector."
      ],
      "metadata": {
        "id": "d7frG4b83p0i"
      }
    },
    {
      "cell_type": "code",
      "source": [
        "%%R\n",
        "agesR_new3=agesR_new2[!agesR_new2%in%c(60,65)]\n",
        "agesR_new3"
      ],
      "metadata": {
        "colab": {
          "base_uri": "https://localhost:8080/"
        },
        "id": "wICssDkg3sT6",
        "outputId": "3b2755d7-ad96-4d1b-9e4f-b4b05f93dc43"
      },
      "execution_count": 178,
      "outputs": [
        {
          "output_type": "stream",
          "name": "stdout",
          "text": [
            " [1] 53 37 62 36 42 64 70 78 70 61 56 50 61\n"
          ]
        }
      ]
    },
    {
      "cell_type": "markdown",
      "source": [
        "Se eliminaron las edades 60 y 65 del vector."
      ],
      "metadata": {
        "id": "cq16xpge32PS"
      }
    },
    {
      "cell_type": "markdown",
      "source": [
        "Inserción de valores al final del vector"
      ],
      "metadata": {
        "id": "dr9t3Czb35Ia"
      }
    },
    {
      "cell_type": "code",
      "source": [
        "countriesP_new=np.array([\"España\",\"Portugal\",\"Estados Unidos\"])\n",
        "countriesP_new2=np.append(countriesP,countriesP_new)\n",
        "countriesP_new2"
      ],
      "metadata": {
        "colab": {
          "base_uri": "https://localhost:8080/"
        },
        "id": "FXuiusUM38y6",
        "outputId": "e0f11c8c-d14d-4a29-e326-02633ac22ece"
      },
      "execution_count": 179,
      "outputs": [
        {
          "output_type": "execute_result",
          "data": {
            "text/plain": [
              "array(['Argentina', 'EP Bolivia', 'Brazil', 'Chile', 'Colombia',\n",
              "       'Costa Rica', 'Cuba', 'Ecuador', 'El Salvador', 'Guatemala',\n",
              "       'Honduras', 'México', 'Nicaragua', 'Panamá', 'Paraguay', 'Perú',\n",
              "       'Uruguay', 'Venezuela', 'España', 'Portugal', 'Estados Unidos'],\n",
              "      dtype='<U20')"
            ]
          },
          "metadata": {},
          "execution_count": 179
        }
      ]
    },
    {
      "cell_type": "markdown",
      "source": [
        "Se añadieron España, Portugal y Estados Unidos al vector."
      ],
      "metadata": {
        "id": "13VuAdWL515A"
      }
    },
    {
      "cell_type": "code",
      "source": [
        "%%R\n",
        "countriesR_new=c(\"Canadá\",\"Italia\",\"Francia\")\n",
        "countriesR_new2=c(countriesR,countriesR_new)\n",
        "countriesR_new2"
      ],
      "metadata": {
        "colab": {
          "base_uri": "https://localhost:8080/"
        },
        "id": "8Gq5DJZB56Fy",
        "outputId": "7e417da0-2b9d-4b05-ad07-28be49db20f8"
      },
      "execution_count": 180,
      "outputs": [
        {
          "output_type": "stream",
          "name": "stdout",
          "text": [
            " [1] \"Argentina\"                \"Bolivia\"                 \n",
            " [3] \"Brasil\"                   \"Chile\"                   \n",
            " [5] \"Colombia\"                 \"Costa Rica\"              \n",
            " [7] \"Cuba\"                     \"Ecuador\"                 \n",
            " [9] \"El Salvador\"              \"Guatemala\"               \n",
            "[11] \"Honduras\"                 \"Estados Unidos Mexicanos\"\n",
            "[13] \"Nicaragua\"                \"Panamá\"                  \n",
            "[15] \"Paraguay\"                 \"Perú\"                    \n",
            "[17] \"República Dominicana\"     \"Uruguay\"                 \n",
            "[19] \"Canadá\"                   \"Italia\"                  \n",
            "[21] \"Francia\"                 \n"
          ]
        }
      ]
    },
    {
      "cell_type": "markdown",
      "source": [
        "Se añadieron Canadá, Italia y Francia al vector."
      ],
      "metadata": {
        "id": "MZbg43EA6FWk"
      }
    },
    {
      "cell_type": "markdown",
      "source": [
        "Inserción de valores en una posición específica"
      ],
      "metadata": {
        "id": "qxKtpmPW6L4x"
      }
    },
    {
      "cell_type": "code",
      "source": [
        "countriesP_new3=np.insert(countriesP_new2,obj=11,values=\"Inglaterra\")\n",
        "countriesP_new3"
      ],
      "metadata": {
        "colab": {
          "base_uri": "https://localhost:8080/"
        },
        "id": "_g8osii56PIy",
        "outputId": "0956ca9c-9b00-48bb-987a-61d47b72677e"
      },
      "execution_count": 181,
      "outputs": [
        {
          "output_type": "execute_result",
          "data": {
            "text/plain": [
              "array(['Argentina', 'EP Bolivia', 'Brazil', 'Chile', 'Colombia',\n",
              "       'Costa Rica', 'Cuba', 'Ecuador', 'El Salvador', 'Guatemala',\n",
              "       'Honduras', 'Inglaterra', 'México', 'Nicaragua', 'Panamá',\n",
              "       'Paraguay', 'Perú', 'Uruguay', 'Venezuela', 'España', 'Portugal',\n",
              "       'Estados Unidos'], dtype='<U20')"
            ]
          },
          "metadata": {},
          "execution_count": 181
        }
      ]
    },
    {
      "cell_type": "markdown",
      "source": [
        "Inglaterra fue añadido como el undécimo elemento del vector."
      ],
      "metadata": {
        "id": "_v3UtvWQ8F0p"
      }
    },
    {
      "cell_type": "code",
      "source": [
        "%%R\n",
        "countriesR_new3=append(countriesR_new2,\"Alemania\",after=1)\n",
        "countriesR_new3"
      ],
      "metadata": {
        "colab": {
          "base_uri": "https://localhost:8080/"
        },
        "id": "EKSs9YyK8QIY",
        "outputId": "dd708689-b00e-4b88-80e5-45473095cf12"
      },
      "execution_count": 182,
      "outputs": [
        {
          "output_type": "stream",
          "name": "stdout",
          "text": [
            " [1] \"Argentina\"                \"Alemania\"                \n",
            " [3] \"Bolivia\"                  \"Brasil\"                  \n",
            " [5] \"Chile\"                    \"Colombia\"                \n",
            " [7] \"Costa Rica\"               \"Cuba\"                    \n",
            " [9] \"Ecuador\"                  \"El Salvador\"             \n",
            "[11] \"Guatemala\"                \"Honduras\"                \n",
            "[13] \"Estados Unidos Mexicanos\" \"Nicaragua\"               \n",
            "[15] \"Panamá\"                   \"Paraguay\"                \n",
            "[17] \"Perú\"                     \"República Dominicana\"    \n",
            "[19] \"Uruguay\"                  \"Canadá\"                  \n",
            "[21] \"Italia\"                   \"Francia\"                 \n"
          ]
        }
      ]
    },
    {
      "cell_type": "markdown",
      "source": [
        "Alemania fue añadido como el segundo elemento del vector."
      ],
      "metadata": {
        "id": "OYxiT1x289L9"
      }
    },
    {
      "cell_type": "markdown",
      "source": [
        "Concatenación"
      ],
      "metadata": {
        "id": "57AUD0gj9AoZ"
      }
    },
    {
      "cell_type": "code",
      "source": [
        "vector_new=np.concatenate((countriesP_new3,pol_orientationP))\n",
        "vector_new"
      ],
      "metadata": {
        "colab": {
          "base_uri": "https://localhost:8080/"
        },
        "id": "Dr6aqC1w9B-k",
        "outputId": "a5431387-2197-4ef3-cead-fa50f1fb00fc"
      },
      "execution_count": 183,
      "outputs": [
        {
          "output_type": "execute_result",
          "data": {
            "text/plain": [
              "array(['Argentina', 'EP Bolivia', 'Brazil', 'Chile', 'Colombia',\n",
              "       'Costa Rica', 'Cuba', 'Ecuador', 'El Salvador', 'Guatemala',\n",
              "       'Honduras', 'Inglaterra', 'México', 'Nicaragua', 'Panamá',\n",
              "       'Paraguay', 'Perú', 'Uruguay', 'Venezuela', 'España', 'Portugal',\n",
              "       'Estados Unidos', 'Derecha', 'Izquierda', 'Centroderecha',\n",
              "       'Izquierda', 'Centroderecha', 'Centro', 'Izquierda',\n",
              "       'Centroizquierda', 'Izquierda', 'Izquierda', 'Centro',\n",
              "       'Centroderecha', 'Centro', 'Centroizquierda', 'Centroderecha',\n",
              "       'Izquierda'], dtype='<U20')"
            ]
          },
          "metadata": {},
          "execution_count": 183
        }
      ]
    },
    {
      "cell_type": "markdown",
      "source": [
        "Se concatenaron los vectores de países y orientaciones políticas."
      ],
      "metadata": {
        "id": "LuR_O6Ry9pa5"
      }
    },
    {
      "cell_type": "code",
      "source": [
        "%%R\n",
        "vector_newR=c(countriesR_new3,pol_orientationR)\n",
        "vector_newR"
      ],
      "metadata": {
        "colab": {
          "base_uri": "https://localhost:8080/"
        },
        "id": "hkN83P5A9u2K",
        "outputId": "eee38fb2-1d4b-48b0-f4d8-9fe9ab6c6057"
      },
      "execution_count": 184,
      "outputs": [
        {
          "output_type": "stream",
          "name": "stdout",
          "text": [
            " [1] \"Argentina\"                \"Alemania\"                \n",
            " [3] \"Bolivia\"                  \"Brasil\"                  \n",
            " [5] \"Chile\"                    \"Colombia\"                \n",
            " [7] \"Costa Rica\"               \"Cuba\"                    \n",
            " [9] \"Ecuador\"                  \"El Salvador\"             \n",
            "[11] \"Guatemala\"                \"Honduras\"                \n",
            "[13] \"Estados Unidos Mexicanos\" \"Nicaragua\"               \n",
            "[15] \"Panamá\"                   \"Paraguay\"                \n",
            "[17] \"Perú\"                     \"República Dominicana\"    \n",
            "[19] \"Uruguay\"                  \"Canadá\"                  \n",
            "[21] \"Italia\"                   \"Francia\"                 \n",
            "[23] \"Derecha\"                  \"Izquierda\"               \n",
            "[25] \"Centroderecha\"            \"Izquierda\"               \n",
            "[27] \"Centroderecha\"            \"Centro\"                  \n",
            "[29] \"Izquierda\"                \"Centroizquierda\"         \n",
            "[31] \"Izquierda\"                \"Izquierda\"               \n",
            "[33] \"Centro\"                   \"Centroderecha\"           \n",
            "[35] \"Centro\"                   \"Centroizquierda\"         \n",
            "[37] \"Centroderecha\"            \"Izquierda\"               \n"
          ]
        }
      ]
    },
    {
      "cell_type": "markdown",
      "source": [
        "Se concatenaron los vectores de países y orientaciones políticas."
      ],
      "metadata": {
        "id": "FAWqe5cQ963x"
      }
    }
  ]
}